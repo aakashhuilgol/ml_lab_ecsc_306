{
 "cells": [
  {
   "cell_type": "code",
   "execution_count": 6,
   "metadata": {
    "scrolled": true
   },
   "outputs": [
    {
     "name": "stdout",
     "output_type": "stream",
     "text": [
      "81\n"
     ]
    }
   ],
   "source": [
    "import tensorflow as tf\n",
    "with tf.name_scope(\"Give_Numbers_a_b_c\"):\n",
    "    a=tf.constant(4)\n",
    "    b=tf.constant(2)\n",
    "    c=tf.constant(3)\n",
    "with tf.name_scope(\"Squaring_a_b_c\"): \n",
    "    x=tf.square(a)\n",
    "    y=tf.square(b)\n",
    "    z=tf.square(c)\n",
    "with tf.name_scope(\"Calculating_2ab_2bc_2ca\"):  \n",
    "    s1=tf.multiply(a,b)\n",
    "    t1=tf.multiply(2,s1)\n",
    "    s2=tf.multiply(b,c)\n",
    "    t2=tf.multiply(2,s2)\n",
    "    s3=tf.multiply(c,a)\n",
    "    t3=tf.multiply(2,s3)\n",
    "    \n",
    "with tf.name_scope(\"Adding_2ab_2bc_2ca\"):\n",
    "    t4=tf.add(t1,t2)\n",
    "    t5=tf.add(t4,t3)\n",
    "with tf.name_scope(\"Adding_a2_b2_c2\"):\n",
    "    t7=tf.add(x,y)\n",
    "    t6=tf.add(t7,z)\n",
    "    \n",
    "with tf.name_scope(\"Answer\"):  \n",
    "    result=tf.add(t5,t6)\n",
    "\n",
    "\n",
    "\n",
    "with tf.Session() as ses2:\n",
    "    writer=tf.summary.FileWriter(\"/tmp/tboard/output20\",ses2.graph)\n",
    "    print(ses2.run(result))\n",
    "    writer.close()"
   ]
  },
  {
   "cell_type": "code",
   "execution_count": 4,
   "metadata": {},
   "outputs": [
    {
     "name": "stdout",
     "output_type": "stream",
     "text": [
      "225\n",
      "225\n"
     ]
    }
   ],
   "source": [
    "import tensorflow as tf\n",
    "with tf.name_scope(\"Give_2_numbers\"):\n",
    "    x1=tf.constant(5)\n",
    "    x2=tf.constant(10)\n",
    "with tf.name_scope(\"Calculating_x1_square\"):\n",
    "    a=tf.square(x1)\n",
    "with tf.name_scope(\"Calculating_x2_square\"):  \n",
    "    b=tf.square(x2)\n",
    "with tf.name_scope(\"Calculating_2_x1_x2\"):\n",
    "    c=tf.multiply(x1,x2)\n",
    "    d=tf.multiply(c,2)\n",
    "with tf.name_scope(\"Result_Found\"):\n",
    "    res=tf.add(a,b)\n",
    "    result=tf.add(res,d)\n",
    "ses=tf.Session()\n",
    "print(ses.run(result))\n",
    "with tf.Session() as ses:\n",
    "    writer=tf.summary.FileWriter(\"/tmp/tboard/output10\",ses.graph)\n",
    "    print(ses.run(result))\n",
    "    #writer.close()\n"
   ]
  },
  {
   "cell_type": "code",
   "execution_count": null,
   "metadata": {
    "collapsed": true
   },
   "outputs": [],
   "source": []
  }
 ],
 "metadata": {
  "kernelspec": {
   "display_name": "Python 3",
   "language": "python",
   "name": "python3"
  },
  "language_info": {
   "codemirror_mode": {
    "name": "ipython",
    "version": 3
   },
   "file_extension": ".py",
   "mimetype": "text/x-python",
   "name": "python",
   "nbconvert_exporter": "python",
   "pygments_lexer": "ipython3",
   "version": "3.6.1"
  }
 },
 "nbformat": 4,
 "nbformat_minor": 2
}
