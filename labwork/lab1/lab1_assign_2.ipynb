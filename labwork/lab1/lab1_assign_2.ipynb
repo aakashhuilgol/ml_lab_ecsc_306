{
 "cells": [
  {
   "cell_type": "markdown",
   "metadata": {
    "slideshow": {
     "slide_type": "slide"
    }
   },
   "source": [
    "Write a program using tensorflow to calculate : \n",
    "    $$y=mx+c$$"
   ]
  },
  {
   "cell_type": "markdown",
   "metadata": {
    "slideshow": {
     "slide_type": "slide"
    }
   },
   "source": [
    "### Part 1\n",
    "\n",
    "1. Read 2 arrays x,y containing floating point values\n",
    "2. Calculate mean of x & y\n",
    "3. Calculate variance for x\n",
    "    $$variance(x)=sum((x-mean(x))^2)$$\n",
    "4. Calculate covariance of x & y\n",
    "    $$covariance = sum((x(i) - mean(x)) * (y(i) - mean(y)))$$\n",
    "5. Calculate value of m\n",
    "    $$m = covariance(x,y)/variance(x)$$\n",
    "6. Calculate value of c\n",
    "    $$c = mean(y) -m* mean(x)$$\n",
    "    "
   ]
  },
  {
   "cell_type": "markdown",
   "metadata": {
    "slideshow": {
     "slide_type": "slide"
    }
   },
   "source": [
    "### Part 2\n",
    "\n",
    "1. Plot graph for actual values against predicted value\n",
    "2. Calculate root mean square error."
   ]
  },
  {
   "cell_type": "code",
   "execution_count": 1,
   "metadata": {},
   "outputs": [
    {
     "name": "stdout",
     "output_type": "stream",
     "text": [
      "[[ 10.19999981  12.60000038   8.89999962   8.5          1.89999998\n",
      "    1.29999995   9.30000019  23.        ]]\n",
      "[[ 12.80000019  13.80000019   1.5          7.9000001    3.29999995   4.\n",
      "    2.9000001    4.9000001 ]]\n"
     ]
    }
   ],
   "source": [
    "import tensorflow as tf\n",
    "\n",
    "\n",
    "x=tf.constant([10.2,12.6,8.9,8.5,1.9,1.3,9.3,23.0],shape=[1,8])\n",
    "y=tf.constant([12.8,13.8,1.5,7.9,3.3,4.0,2.9,4.9],shape=[1,8])\n",
    "\n",
    "\n",
    "sess=tf.Session()\n",
    "print(sess.run(x))\n",
    "print(sess.run(y))"
   ]
  },
  {
   "cell_type": "code",
   "execution_count": 2,
   "metadata": {},
   "outputs": [
    {
     "name": "stdout",
     "output_type": "stream",
     "text": [
      "Mean of x:\n",
      "[ 9.46249962]\n",
      "Mean of y:\n",
      "[ 6.38749981]\n"
     ]
    }
   ],
   "source": [
    "mean_x=tf.reduce_mean(x,1)\n",
    "sess=tf.Session()\n",
    "print(\"Mean of x:\")\n",
    "print(sess.run(mean_x))\n",
    "\n",
    "mean_y=tf.reduce_mean(y,1)\n",
    "sess=tf.Session()\n",
    "print(\"Mean of y:\")\n",
    "print(sess.run(mean_y))"
   ]
  },
  {
   "cell_type": "code",
   "execution_count": 3,
   "metadata": {},
   "outputs": [
    {
     "name": "stdout",
     "output_type": "stream",
     "text": [
      "Variance:\n",
      "39.8423\n"
     ]
    }
   ],
   "source": [
    "\n",
    "a=tf.subtract(x,mean_x)\n",
    "b=tf.square(a)\n",
    "var_x=tf.reduce_mean(b)\n",
    "sess=tf.Session()\n",
    "print(\"Variance:\")\n",
    "print(sess.run(var_x))\n"
   ]
  },
  {
   "cell_type": "code",
   "execution_count": 4,
   "metadata": {},
   "outputs": [
    {
     "name": "stdout",
     "output_type": "stream",
     "text": [
      "Covariance:\n",
      "6.56828\n"
     ]
    }
   ],
   "source": [
    "\n",
    "a1=tf.subtract(x,mean_x)\n",
    "b1=tf.subtract(y,mean_y)\n",
    "c=tf.multiply(a1,b1)\n",
    "covar=tf.reduce_mean(c)\n",
    "sess=tf.Session()\n",
    "print(\"Covariance:\")\n",
    "print(sess.run(covar))   \n"
   ]
  },
  {
   "cell_type": "code",
   "execution_count": 5,
   "metadata": {},
   "outputs": [
    {
     "name": "stdout",
     "output_type": "stream",
     "text": [
      "m:\n",
      "0.164857\n"
     ]
    }
   ],
   "source": [
    "m=tf.divide(covar,var_x)\n",
    "sess=tf.Session()\n",
    "print(\"m:\")\n",
    "print(sess.run(m)) "
   ]
  },
  {
   "cell_type": "code",
   "execution_count": 6,
   "metadata": {},
   "outputs": [
    {
     "name": "stdout",
     "output_type": "stream",
     "text": [
      "c:\n",
      "[ 4.8275423]\n"
     ]
    }
   ],
   "source": [
    "z=tf.multiply(m,mean_x)\n",
    "c=tf.subtract(mean_y,z)\n",
    "sess=tf.Session()\n",
    "print(\"c:\")\n",
    "print(sess.run(c)) "
   ]
  },
  {
   "cell_type": "code",
   "execution_count": null,
   "metadata": {
    "collapsed": true
   },
   "outputs": [],
   "source": []
  },
  {
   "cell_type": "code",
   "execution_count": null,
   "metadata": {
    "collapsed": true
   },
   "outputs": [],
   "source": []
  }
 ],
 "metadata": {
  "celltoolbar": "Slideshow",
  "kernelspec": {
   "display_name": "Python 3",
   "language": "python",
   "name": "python3"
  },
  "language_info": {
   "codemirror_mode": {
    "name": "ipython",
    "version": 3
   },
   "file_extension": ".py",
   "mimetype": "text/x-python",
   "name": "python",
   "nbconvert_exporter": "python",
   "pygments_lexer": "ipython3",
   "version": "3.6.1"
  }
 },
 "nbformat": 4,
 "nbformat_minor": 2
}
