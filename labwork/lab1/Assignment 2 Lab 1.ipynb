{
 "cells": [
  {
   "cell_type": "code",
   "execution_count": 2,
   "metadata": {},
   "outputs": [
    {
     "name": "stdout",
     "output_type": "stream",
     "text": [
      "Mean x =  9.0\n",
      "Mean y =  11.31\n",
      "Variance =  30.568\n",
      "Covariance of x,y =  24.0475\n",
      "M =  0.786689\n",
      "C =  4.2298\n",
      "Rms error=  40.6849\n"
     ]
    }
   ],
   "source": [
    "#Reading two arrays\n",
    "import tensorflow as tf\n",
    "x=tf.constant([10.4,4.7,8.7,1.6,3.5,8.2,20.4,11,16.2,5.3])\n",
    "y=tf.constant([25.1,3.5,1.5,12.5,5.5,11,12,13,14,15])\n",
    "with tf.name_scope(\"Mean_x\"):\n",
    "    meanx=tf.reduce_mean(x);\n",
    "with tf.name_scope(\"Mean_y\"):   \n",
    "    meany=tf.reduce_mean(y);\n",
    "with tf.Session() as sess:\n",
    "    print(\"Mean x = \",sess.run(meanx))\n",
    "with tf.Session() as sess:\n",
    "    print(\"Mean y = \",sess.run(meany))\n",
    "with tf.name_scope(\"Variance_x\"):  \n",
    "    rhs=tf.subtract(x,meanx)\n",
    "squaring_rhs=tf.square(rhs)\n",
    "variance=tf.reduce_mean(squaring_rhs)\n",
    "with tf.Session() as sess:\n",
    "    sess.run(variance) \n",
    "    print(\"Variance = \",sess.run(variance))\n",
    "with tf.name_scope(\"CoVariance_of_x_y\"):     \n",
    "    cov_xy=tf.reduce_sum((x-meanx)*(y-meany))\n",
    "    cov=tf.divide(cov_xy,4)\n",
    "    with tf.Session() as sess:\n",
    "        print(\"Covariance of x,y = \",sess.run(cov))\n",
    "with tf.name_scope(\"Calculating_m\"):\n",
    "    m=tf.divide(cov,variance)\n",
    "    with tf.Session() as sess:\n",
    "        print(\"M = \",sess.run(m))\n",
    "with tf.name_scope(\"Calculating_c\"):\n",
    "    temp1=tf.multiply(m,meanx)\n",
    "    c= tf.subtract(meany,temp1)\n",
    "    with tf.Session() as sess:\n",
    "        print(\"C = \",sess.run(c))\n",
    "        \n",
    "\n",
    "with tf.Session() as sess:\n",
    "    writer = tf.summary.FileWriter(\"/tmp/tboard/output40\",sess.graph)\n",
    "    writer.close()\n",
    "#to find root mean square\n",
    "with tf.Session() as sess:\n",
    "   \n",
    "        dif=tf.square(y-meany)\n",
    "        rms=(tf.reduce_sum(dif))/10\n",
    "        print (\"Rms error= \",sess.run(rms))\n"
   ]
  },
  {
   "cell_type": "markdown",
   "metadata": {},
   "source": []
  },
  {
   "cell_type": "code",
   "execution_count": null,
   "metadata": {
    "collapsed": true
   },
   "outputs": [],
   "source": []
  }
 ],
 "metadata": {
  "kernelspec": {
   "display_name": "Python 3",
   "language": "python",
   "name": "python3"
  },
  "language_info": {
   "codemirror_mode": {
    "name": "ipython",
    "version": 3
   },
   "file_extension": ".py",
   "mimetype": "text/x-python",
   "name": "python",
   "nbconvert_exporter": "python",
   "pygments_lexer": "ipython3",
   "version": "3.6.1"
  }
 },
 "nbformat": 4,
 "nbformat_minor": 2
}
