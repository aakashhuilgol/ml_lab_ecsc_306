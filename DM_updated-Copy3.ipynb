{
 "cells": [
  {
   "cell_type": "markdown",
   "metadata": {},
   "source": [
    "# School of Computer Science and Engineering.\n",
    "## Data Mining and Analysis Course Project.\n",
    "### Team : 1A1"
   ]
  },
  {
   "cell_type": "markdown",
   "metadata": {},
   "source": [
    "### Importing the required libraries."
   ]
  },
  {
   "cell_type": "code",
   "execution_count": 1,
   "metadata": {},
   "outputs": [
    {
     "name": "stdout",
     "output_type": "stream",
     "text": [
      "Populating the interactive namespace from numpy and matplotlib\n"
     ]
    }
   ],
   "source": [
    "import pandas as pd\n",
    "import matplotlib.pyplot as plt\n",
    "%pylab inline \n",
    "import seaborn as sns"
   ]
  },
  {
   "cell_type": "markdown",
   "metadata": {},
   "source": [
    "### Here we are taking 10% of data from our dataset for training and testing."
   ]
  },
  {
   "cell_type": "code",
   "execution_count": 2,
   "metadata": {
    "collapsed": true
   },
   "outputs": [],
   "source": [
    "train_data= pd.read_csv(\"train_10.csv\")\n",
    "test_data= pd.read_csv(\"test_data.csv\")"
   ]
  },
  {
   "cell_type": "code",
   "execution_count": 3,
   "metadata": {},
   "outputs": [
    {
     "name": "stdout",
     "output_type": "stream",
     "text": [
      "29000\n",
      "48425\n"
     ]
    }
   ],
   "source": [
    "print (len(train_data))\n",
    "print (len(test_data))"
   ]
  },
  {
   "cell_type": "code",
   "execution_count": 4,
   "metadata": {},
   "outputs": [
    {
     "data": {
      "text/html": [
       "<div>\n",
       "<style>\n",
       "    .dataframe thead tr:only-child th {\n",
       "        text-align: right;\n",
       "    }\n",
       "\n",
       "    .dataframe thead th {\n",
       "        text-align: left;\n",
       "    }\n",
       "\n",
       "    .dataframe tbody tr th {\n",
       "        vertical-align: top;\n",
       "    }\n",
       "</style>\n",
       "<table border=\"1\" class=\"dataframe\">\n",
       "  <thead>\n",
       "    <tr style=\"text-align: right;\">\n",
       "      <th></th>\n",
       "      <th>ABL50</th>\n",
       "      <th>ABL80</th>\n",
       "      <th>ABLMED</th>\n",
       "      <th>AGE</th>\n",
       "      <th>APLMED</th>\n",
       "      <th>ASSISTED</th>\n",
       "      <th>BEDRMS</th>\n",
       "      <th>BUILT</th>\n",
       "      <th>BURDEN</th>\n",
       "      <th>CONTROL</th>\n",
       "      <th>...</th>\n",
       "      <th>TOTSAL</th>\n",
       "      <th>TYPE</th>\n",
       "      <th>UTILITY</th>\n",
       "      <th>VACANCY</th>\n",
       "      <th>VALUE</th>\n",
       "      <th>WEIGHT</th>\n",
       "      <th>ZADEQ</th>\n",
       "      <th>ZINC2</th>\n",
       "      <th>ZSMHC</th>\n",
       "      <th>DSYEAR</th>\n",
       "    </tr>\n",
       "  </thead>\n",
       "  <tbody>\n",
       "    <tr>\n",
       "      <th>count</th>\n",
       "      <td>29000.000000</td>\n",
       "      <td>29000.000000</td>\n",
       "      <td>29000.000000</td>\n",
       "      <td>29000.000000</td>\n",
       "      <td>29000.000000</td>\n",
       "      <td>29000.000000</td>\n",
       "      <td>29000.000000</td>\n",
       "      <td>29000.000000</td>\n",
       "      <td>29000.000000</td>\n",
       "      <td>2.900000e+04</td>\n",
       "      <td>...</td>\n",
       "      <td>29000.000000</td>\n",
       "      <td>29000.000000</td>\n",
       "      <td>29000.000000</td>\n",
       "      <td>29000.000000</td>\n",
       "      <td>29000.000000</td>\n",
       "      <td>29000.000000</td>\n",
       "      <td>29000.000000</td>\n",
       "      <td>29000.000000</td>\n",
       "      <td>29000.000000</td>\n",
       "      <td>29000.0</td>\n",
       "    </tr>\n",
       "    <tr>\n",
       "      <th>mean</th>\n",
       "      <td>14618.204976</td>\n",
       "      <td>22657.610781</td>\n",
       "      <td>28676.051434</td>\n",
       "      <td>44.443621</td>\n",
       "      <td>23971.551687</td>\n",
       "      <td>0.049448</td>\n",
       "      <td>2.514069</td>\n",
       "      <td>11.562276</td>\n",
       "      <td>-0.667013</td>\n",
       "      <td>3.236107e+11</td>\n",
       "      <td>...</td>\n",
       "      <td>20704.504828</td>\n",
       "      <td>1.063448</td>\n",
       "      <td>49.798678</td>\n",
       "      <td>-8.311862</td>\n",
       "      <td>44778.882207</td>\n",
       "      <td>2017.421326</td>\n",
       "      <td>1.113793</td>\n",
       "      <td>26707.364138</td>\n",
       "      <td>384.187207</td>\n",
       "      <td>1985.0</td>\n",
       "    </tr>\n",
       "    <tr>\n",
       "      <th>std</th>\n",
       "      <td>3182.796140</td>\n",
       "      <td>4291.074133</td>\n",
       "      <td>6344.033462</td>\n",
       "      <td>21.919138</td>\n",
       "      <td>8540.779920</td>\n",
       "      <td>0.216806</td>\n",
       "      <td>1.036395</td>\n",
       "      <td>21.735978</td>\n",
       "      <td>4.781199</td>\n",
       "      <td>1.109207e+11</td>\n",
       "      <td>...</td>\n",
       "      <td>22617.855491</td>\n",
       "      <td>0.358511</td>\n",
       "      <td>49.075170</td>\n",
       "      <td>2.692818</td>\n",
       "      <td>54375.052943</td>\n",
       "      <td>925.176540</td>\n",
       "      <td>0.366654</td>\n",
       "      <td>24352.412991</td>\n",
       "      <td>313.848868</td>\n",
       "      <td>0.0</td>\n",
       "    </tr>\n",
       "    <tr>\n",
       "      <th>min</th>\n",
       "      <td>6949.001277</td>\n",
       "      <td>11124.026170</td>\n",
       "      <td>13220.715200</td>\n",
       "      <td>-9.000000</td>\n",
       "      <td>-9.000000</td>\n",
       "      <td>0.000000</td>\n",
       "      <td>0.000000</td>\n",
       "      <td>1.000000</td>\n",
       "      <td>-9.000000</td>\n",
       "      <td>1.000060e+11</td>\n",
       "      <td>...</td>\n",
       "      <td>-9.000000</td>\n",
       "      <td>1.000000</td>\n",
       "      <td>0.000000</td>\n",
       "      <td>-9.000000</td>\n",
       "      <td>-9.000000</td>\n",
       "      <td>0.000000</td>\n",
       "      <td>1.000000</td>\n",
       "      <td>-10001.000000</td>\n",
       "      <td>-9.000000</td>\n",
       "      <td>1985.0</td>\n",
       "    </tr>\n",
       "    <tr>\n",
       "      <th>25%</th>\n",
       "      <td>12365.605750</td>\n",
       "      <td>19639.554130</td>\n",
       "      <td>23868.719680</td>\n",
       "      <td>31.000000</td>\n",
       "      <td>20452.759600</td>\n",
       "      <td>0.000000</td>\n",
       "      <td>2.000000</td>\n",
       "      <td>3.000000</td>\n",
       "      <td>0.089138</td>\n",
       "      <td>1.997508e+11</td>\n",
       "      <td>...</td>\n",
       "      <td>0.000000</td>\n",
       "      <td>1.000000</td>\n",
       "      <td>9.000000</td>\n",
       "      <td>-9.000000</td>\n",
       "      <td>-9.000000</td>\n",
       "      <td>2067.257500</td>\n",
       "      <td>1.000000</td>\n",
       "      <td>9480.000000</td>\n",
       "      <td>184.000000</td>\n",
       "      <td>1985.0</td>\n",
       "    </tr>\n",
       "    <tr>\n",
       "      <th>50%</th>\n",
       "      <td>14318.968000</td>\n",
       "      <td>22318.776000</td>\n",
       "      <td>28231.444800</td>\n",
       "      <td>43.000000</td>\n",
       "      <td>24412.989600</td>\n",
       "      <td>0.000000</td>\n",
       "      <td>3.000000</td>\n",
       "      <td>5.000000</td>\n",
       "      <td>0.177391</td>\n",
       "      <td>2.996480e+11</td>\n",
       "      <td>...</td>\n",
       "      <td>15683.000000</td>\n",
       "      <td>1.000000</td>\n",
       "      <td>39.166667</td>\n",
       "      <td>-9.000000</td>\n",
       "      <td>30000.000000</td>\n",
       "      <td>2222.150000</td>\n",
       "      <td>1.000000</td>\n",
       "      <td>21000.000000</td>\n",
       "      <td>327.000000</td>\n",
       "      <td>1985.0</td>\n",
       "    </tr>\n",
       "    <tr>\n",
       "      <th>75%</th>\n",
       "      <td>16408.274130</td>\n",
       "      <td>25392.103560</td>\n",
       "      <td>32623.002880</td>\n",
       "      <td>61.000000</td>\n",
       "      <td>28657.820800</td>\n",
       "      <td>0.000000</td>\n",
       "      <td>3.000000</td>\n",
       "      <td>8.000000</td>\n",
       "      <td>0.292800</td>\n",
       "      <td>3.994582e+11</td>\n",
       "      <td>...</td>\n",
       "      <td>32255.000000</td>\n",
       "      <td>1.000000</td>\n",
       "      <td>77.083333</td>\n",
       "      <td>-9.000000</td>\n",
       "      <td>70000.000000</td>\n",
       "      <td>2405.750000</td>\n",
       "      <td>1.000000</td>\n",
       "      <td>37000.000000</td>\n",
       "      <td>510.000000</td>\n",
       "      <td>1985.0</td>\n",
       "    </tr>\n",
       "    <tr>\n",
       "      <th>max</th>\n",
       "      <td>38248.115380</td>\n",
       "      <td>51022.981920</td>\n",
       "      <td>76501.223200</td>\n",
       "      <td>91.000000</td>\n",
       "      <td>82744.973920</td>\n",
       "      <td>1.000000</td>\n",
       "      <td>10.000000</td>\n",
       "      <td>85.000000</td>\n",
       "      <td>420.000000</td>\n",
       "      <td>4.992460e+11</td>\n",
       "      <td>...</td>\n",
       "      <td>264600.000000</td>\n",
       "      <td>14.000000</td>\n",
       "      <td>485.166667</td>\n",
       "      <td>5.000000</td>\n",
       "      <td>250001.000000</td>\n",
       "      <td>18589.460000</td>\n",
       "      <td>3.000000</td>\n",
       "      <td>264600.000000</td>\n",
       "      <td>4609.000000</td>\n",
       "      <td>1985.0</td>\n",
       "    </tr>\n",
       "  </tbody>\n",
       "</table>\n",
       "<p>8 rows × 72 columns</p>\n",
       "</div>"
      ],
      "text/plain": [
       "              ABL50         ABL80        ABLMED           AGE        APLMED  \\\n",
       "count  29000.000000  29000.000000  29000.000000  29000.000000  29000.000000   \n",
       "mean   14618.204976  22657.610781  28676.051434     44.443621  23971.551687   \n",
       "std     3182.796140   4291.074133   6344.033462     21.919138   8540.779920   \n",
       "min     6949.001277  11124.026170  13220.715200     -9.000000     -9.000000   \n",
       "25%    12365.605750  19639.554130  23868.719680     31.000000  20452.759600   \n",
       "50%    14318.968000  22318.776000  28231.444800     43.000000  24412.989600   \n",
       "75%    16408.274130  25392.103560  32623.002880     61.000000  28657.820800   \n",
       "max    38248.115380  51022.981920  76501.223200     91.000000  82744.973920   \n",
       "\n",
       "           ASSISTED        BEDRMS         BUILT        BURDEN       CONTROL  \\\n",
       "count  29000.000000  29000.000000  29000.000000  29000.000000  2.900000e+04   \n",
       "mean       0.049448      2.514069     11.562276     -0.667013  3.236107e+11   \n",
       "std        0.216806      1.036395     21.735978      4.781199  1.109207e+11   \n",
       "min        0.000000      0.000000      1.000000     -9.000000  1.000060e+11   \n",
       "25%        0.000000      2.000000      3.000000      0.089138  1.997508e+11   \n",
       "50%        0.000000      3.000000      5.000000      0.177391  2.996480e+11   \n",
       "75%        0.000000      3.000000      8.000000      0.292800  3.994582e+11   \n",
       "max        1.000000     10.000000     85.000000    420.000000  4.992460e+11   \n",
       "\n",
       "        ...            TOTSAL          TYPE       UTILITY       VACANCY  \\\n",
       "count   ...      29000.000000  29000.000000  29000.000000  29000.000000   \n",
       "mean    ...      20704.504828      1.063448     49.798678     -8.311862   \n",
       "std     ...      22617.855491      0.358511     49.075170      2.692818   \n",
       "min     ...         -9.000000      1.000000      0.000000     -9.000000   \n",
       "25%     ...          0.000000      1.000000      9.000000     -9.000000   \n",
       "50%     ...      15683.000000      1.000000     39.166667     -9.000000   \n",
       "75%     ...      32255.000000      1.000000     77.083333     -9.000000   \n",
       "max     ...     264600.000000     14.000000    485.166667      5.000000   \n",
       "\n",
       "               VALUE        WEIGHT         ZADEQ          ZINC2         ZSMHC  \\\n",
       "count   29000.000000  29000.000000  29000.000000   29000.000000  29000.000000   \n",
       "mean    44778.882207   2017.421326      1.113793   26707.364138    384.187207   \n",
       "std     54375.052943    925.176540      0.366654   24352.412991    313.848868   \n",
       "min        -9.000000      0.000000      1.000000  -10001.000000     -9.000000   \n",
       "25%        -9.000000   2067.257500      1.000000    9480.000000    184.000000   \n",
       "50%     30000.000000   2222.150000      1.000000   21000.000000    327.000000   \n",
       "75%     70000.000000   2405.750000      1.000000   37000.000000    510.000000   \n",
       "max    250001.000000  18589.460000      3.000000  264600.000000   4609.000000   \n",
       "\n",
       "        DSYEAR  \n",
       "count  29000.0  \n",
       "mean    1985.0  \n",
       "std        0.0  \n",
       "min     1985.0  \n",
       "25%     1985.0  \n",
       "50%     1985.0  \n",
       "75%     1985.0  \n",
       "max     1985.0  \n",
       "\n",
       "[8 rows x 72 columns]"
      ]
     },
     "execution_count": 4,
     "metadata": {},
     "output_type": "execute_result"
    }
   ],
   "source": [
    "train_data.describe()"
   ]
  },
  {
   "cell_type": "code",
   "execution_count": 5,
   "metadata": {},
   "outputs": [
    {
     "data": {
      "text/html": [
       "<div>\n",
       "<style>\n",
       "    .dataframe thead tr:only-child th {\n",
       "        text-align: right;\n",
       "    }\n",
       "\n",
       "    .dataframe thead th {\n",
       "        text-align: left;\n",
       "    }\n",
       "\n",
       "    .dataframe tbody tr th {\n",
       "        vertical-align: top;\n",
       "    }\n",
       "</style>\n",
       "<table border=\"1\" class=\"dataframe\">\n",
       "  <thead>\n",
       "    <tr style=\"text-align: right;\">\n",
       "      <th></th>\n",
       "      <th>ABL50</th>\n",
       "      <th>ABL80</th>\n",
       "      <th>ABLMED</th>\n",
       "      <th>AGE</th>\n",
       "      <th>APLMED</th>\n",
       "      <th>ASSISTED</th>\n",
       "      <th>BEDRMS</th>\n",
       "      <th>BUILT</th>\n",
       "      <th>BURDEN</th>\n",
       "      <th>CONTROL</th>\n",
       "      <th>...</th>\n",
       "      <th>TOTSAL</th>\n",
       "      <th>TYPE</th>\n",
       "      <th>UTILITY</th>\n",
       "      <th>VACANCY</th>\n",
       "      <th>VALUE</th>\n",
       "      <th>WEIGHT</th>\n",
       "      <th>ZADEQ</th>\n",
       "      <th>ZINC2</th>\n",
       "      <th>ZSMHC</th>\n",
       "      <th>DSYEAR</th>\n",
       "    </tr>\n",
       "  </thead>\n",
       "  <tbody>\n",
       "    <tr>\n",
       "      <th>count</th>\n",
       "      <td>48425.000000</td>\n",
       "      <td>48425.000000</td>\n",
       "      <td>48425.000000</td>\n",
       "      <td>48425.000000</td>\n",
       "      <td>48425.000000</td>\n",
       "      <td>48425.000000</td>\n",
       "      <td>48425.000000</td>\n",
       "      <td>48425.000000</td>\n",
       "      <td>48425.000000</td>\n",
       "      <td>4.842500e+04</td>\n",
       "      <td>...</td>\n",
       "      <td>48425.000000</td>\n",
       "      <td>48425.000000</td>\n",
       "      <td>48425.000000</td>\n",
       "      <td>48425.000000</td>\n",
       "      <td>48425.000000</td>\n",
       "      <td>48425.000000</td>\n",
       "      <td>48425.000000</td>\n",
       "      <td>48425.000000</td>\n",
       "      <td>48425.000000</td>\n",
       "      <td>48425.0</td>\n",
       "    </tr>\n",
       "    <tr>\n",
       "      <th>mean</th>\n",
       "      <td>21626.992045</td>\n",
       "      <td>33655.972374</td>\n",
       "      <td>42354.809916</td>\n",
       "      <td>45.608942</td>\n",
       "      <td>35166.300520</td>\n",
       "      <td>0.050057</td>\n",
       "      <td>2.578069</td>\n",
       "      <td>21.356510</td>\n",
       "      <td>2.250122</td>\n",
       "      <td>4.311147e+11</td>\n",
       "      <td>...</td>\n",
       "      <td>29612.950377</td>\n",
       "      <td>1.072566</td>\n",
       "      <td>122.288419</td>\n",
       "      <td>-8.380465</td>\n",
       "      <td>71492.132122</td>\n",
       "      <td>2101.843431</td>\n",
       "      <td>1.106267</td>\n",
       "      <td>38632.812039</td>\n",
       "      <td>627.272173</td>\n",
       "      <td>1995.0</td>\n",
       "    </tr>\n",
       "    <tr>\n",
       "      <th>std</th>\n",
       "      <td>4782.960236</td>\n",
       "      <td>6574.798125</td>\n",
       "      <td>9554.212749</td>\n",
       "      <td>21.499159</td>\n",
       "      <td>12376.664433</td>\n",
       "      <td>0.218064</td>\n",
       "      <td>1.042714</td>\n",
       "      <td>32.895426</td>\n",
       "      <td>139.526902</td>\n",
       "      <td>1.778092e+11</td>\n",
       "      <td>...</td>\n",
       "      <td>32370.511710</td>\n",
       "      <td>0.376412</td>\n",
       "      <td>72.279140</td>\n",
       "      <td>2.543981</td>\n",
       "      <td>86785.403804</td>\n",
       "      <td>825.119585</td>\n",
       "      <td>0.377074</td>\n",
       "      <td>35411.467150</td>\n",
       "      <td>493.400240</td>\n",
       "      <td>0.0</td>\n",
       "    </tr>\n",
       "    <tr>\n",
       "      <th>min</th>\n",
       "      <td>9917.000000</td>\n",
       "      <td>15866.000000</td>\n",
       "      <td>16500.000000</td>\n",
       "      <td>-9.000000</td>\n",
       "      <td>-9.000000</td>\n",
       "      <td>0.000000</td>\n",
       "      <td>0.000000</td>\n",
       "      <td>1.000000</td>\n",
       "      <td>-9.000000</td>\n",
       "      <td>1.000000e+11</td>\n",
       "      <td>...</td>\n",
       "      <td>0.000000</td>\n",
       "      <td>1.000000</td>\n",
       "      <td>0.000000</td>\n",
       "      <td>-9.000000</td>\n",
       "      <td>-9.000000</td>\n",
       "      <td>0.000000</td>\n",
       "      <td>1.000000</td>\n",
       "      <td>-10001.000000</td>\n",
       "      <td>-9.000000</td>\n",
       "      <td>1995.0</td>\n",
       "    </tr>\n",
       "    <tr>\n",
       "      <th>25%</th>\n",
       "      <td>18090.000000</td>\n",
       "      <td>28809.000000</td>\n",
       "      <td>35325.000000</td>\n",
       "      <td>33.000000</td>\n",
       "      <td>29680.000000</td>\n",
       "      <td>0.000000</td>\n",
       "      <td>2.000000</td>\n",
       "      <td>4.000000</td>\n",
       "      <td>0.106385</td>\n",
       "      <td>2.880000e+11</td>\n",
       "      <td>...</td>\n",
       "      <td>0.000000</td>\n",
       "      <td>1.000000</td>\n",
       "      <td>69.500000</td>\n",
       "      <td>-9.000000</td>\n",
       "      <td>-9.000000</td>\n",
       "      <td>1726.330000</td>\n",
       "      <td>1.000000</td>\n",
       "      <td>13200.000000</td>\n",
       "      <td>295.000000</td>\n",
       "      <td>1995.0</td>\n",
       "    </tr>\n",
       "    <tr>\n",
       "      <th>50%</th>\n",
       "      <td>21150.000000</td>\n",
       "      <td>33390.000000</td>\n",
       "      <td>41171.520000</td>\n",
       "      <td>45.000000</td>\n",
       "      <td>35811.900000</td>\n",
       "      <td>0.000000</td>\n",
       "      <td>3.000000</td>\n",
       "      <td>5.000000</td>\n",
       "      <td>0.191321</td>\n",
       "      <td>4.010000e+11</td>\n",
       "      <td>...</td>\n",
       "      <td>22000.000000</td>\n",
       "      <td>1.000000</td>\n",
       "      <td>116.666667</td>\n",
       "      <td>-9.000000</td>\n",
       "      <td>50000.000000</td>\n",
       "      <td>2233.840000</td>\n",
       "      <td>1.000000</td>\n",
       "      <td>29000.000000</td>\n",
       "      <td>519.000000</td>\n",
       "      <td>1995.0</td>\n",
       "    </tr>\n",
       "    <tr>\n",
       "      <th>75%</th>\n",
       "      <td>24536.200000</td>\n",
       "      <td>37672.160000</td>\n",
       "      <td>48488.000000</td>\n",
       "      <td>61.000000</td>\n",
       "      <td>42280.000000</td>\n",
       "      <td>0.000000</td>\n",
       "      <td>3.000000</td>\n",
       "      <td>9.000000</td>\n",
       "      <td>0.310791</td>\n",
       "      <td>5.890000e+11</td>\n",
       "      <td>...</td>\n",
       "      <td>47000.000000</td>\n",
       "      <td>1.000000</td>\n",
       "      <td>166.000000</td>\n",
       "      <td>-9.000000</td>\n",
       "      <td>110000.000000</td>\n",
       "      <td>2445.690000</td>\n",
       "      <td>1.000000</td>\n",
       "      <td>54000.000000</td>\n",
       "      <td>812.000000</td>\n",
       "      <td>1995.0</td>\n",
       "    </tr>\n",
       "    <tr>\n",
       "      <th>max</th>\n",
       "      <td>60721.650000</td>\n",
       "      <td>75574.575760</td>\n",
       "      <td>103976.000000</td>\n",
       "      <td>91.000000</td>\n",
       "      <td>100152.000000</td>\n",
       "      <td>1.000000</td>\n",
       "      <td>10.000000</td>\n",
       "      <td>96.000000</td>\n",
       "      <td>17706.000000</td>\n",
       "      <td>7.330000e+11</td>\n",
       "      <td>...</td>\n",
       "      <td>300000.000000</td>\n",
       "      <td>9.000000</td>\n",
       "      <td>506.333333</td>\n",
       "      <td>5.000000</td>\n",
       "      <td>375000.000000</td>\n",
       "      <td>32413.680000</td>\n",
       "      <td>3.000000</td>\n",
       "      <td>400000.000000</td>\n",
       "      <td>3598.000000</td>\n",
       "      <td>1995.0</td>\n",
       "    </tr>\n",
       "  </tbody>\n",
       "</table>\n",
       "<p>8 rows × 72 columns</p>\n",
       "</div>"
      ],
      "text/plain": [
       "              ABL50         ABL80         ABLMED           AGE         APLMED  \\\n",
       "count  48425.000000  48425.000000   48425.000000  48425.000000   48425.000000   \n",
       "mean   21626.992045  33655.972374   42354.809916     45.608942   35166.300520   \n",
       "std     4782.960236   6574.798125    9554.212749     21.499159   12376.664433   \n",
       "min     9917.000000  15866.000000   16500.000000     -9.000000      -9.000000   \n",
       "25%    18090.000000  28809.000000   35325.000000     33.000000   29680.000000   \n",
       "50%    21150.000000  33390.000000   41171.520000     45.000000   35811.900000   \n",
       "75%    24536.200000  37672.160000   48488.000000     61.000000   42280.000000   \n",
       "max    60721.650000  75574.575760  103976.000000     91.000000  100152.000000   \n",
       "\n",
       "           ASSISTED        BEDRMS         BUILT        BURDEN       CONTROL  \\\n",
       "count  48425.000000  48425.000000  48425.000000  48425.000000  4.842500e+04   \n",
       "mean       0.050057      2.578069     21.356510      2.250122  4.311147e+11   \n",
       "std        0.218064      1.042714     32.895426    139.526902  1.778092e+11   \n",
       "min        0.000000      0.000000      1.000000     -9.000000  1.000000e+11   \n",
       "25%        0.000000      2.000000      4.000000      0.106385  2.880000e+11   \n",
       "50%        0.000000      3.000000      5.000000      0.191321  4.010000e+11   \n",
       "75%        0.000000      3.000000      9.000000      0.310791  5.890000e+11   \n",
       "max        1.000000     10.000000     96.000000  17706.000000  7.330000e+11   \n",
       "\n",
       "        ...            TOTSAL          TYPE       UTILITY       VACANCY  \\\n",
       "count   ...      48425.000000  48425.000000  48425.000000  48425.000000   \n",
       "mean    ...      29612.950377      1.072566    122.288419     -8.380465   \n",
       "std     ...      32370.511710      0.376412     72.279140      2.543981   \n",
       "min     ...          0.000000      1.000000      0.000000     -9.000000   \n",
       "25%     ...          0.000000      1.000000     69.500000     -9.000000   \n",
       "50%     ...      22000.000000      1.000000    116.666667     -9.000000   \n",
       "75%     ...      47000.000000      1.000000    166.000000     -9.000000   \n",
       "max     ...     300000.000000      9.000000    506.333333      5.000000   \n",
       "\n",
       "               VALUE        WEIGHT         ZADEQ          ZINC2         ZSMHC  \\\n",
       "count   48425.000000  48425.000000  48425.000000   48425.000000  48425.000000   \n",
       "mean    71492.132122   2101.843431      1.106267   38632.812039    627.272173   \n",
       "std     86785.403804    825.119585      0.377074   35411.467150    493.400240   \n",
       "min        -9.000000      0.000000      1.000000  -10001.000000     -9.000000   \n",
       "25%        -9.000000   1726.330000      1.000000   13200.000000    295.000000   \n",
       "50%     50000.000000   2233.840000      1.000000   29000.000000    519.000000   \n",
       "75%    110000.000000   2445.690000      1.000000   54000.000000    812.000000   \n",
       "max    375000.000000  32413.680000      3.000000  400000.000000   3598.000000   \n",
       "\n",
       "        DSYEAR  \n",
       "count  48425.0  \n",
       "mean    1995.0  \n",
       "std        0.0  \n",
       "min     1995.0  \n",
       "25%     1995.0  \n",
       "50%     1995.0  \n",
       "75%     1995.0  \n",
       "max     1995.0  \n",
       "\n",
       "[8 rows x 72 columns]"
      ]
     },
     "execution_count": 5,
     "metadata": {},
     "output_type": "execute_result"
    }
   ],
   "source": [
    "test_data.describe()"
   ]
  },
  {
   "cell_type": "markdown",
   "metadata": {},
   "source": [
    "### Concatinating the datasets"
   ]
  },
  {
   "cell_type": "code",
   "execution_count": 6,
   "metadata": {
    "collapsed": true
   },
   "outputs": [],
   "source": [
    "data= pd.concat((train_data, test_data), axis=0, ignore_index=True)\n"
   ]
  },
  {
   "cell_type": "markdown",
   "metadata": {},
   "source": [
    "#### Plotting fair market rent and Cost burden"
   ]
  },
  {
   "cell_type": "code",
   "execution_count": 7,
   "metadata": {},
   "outputs": [
    {
     "data": {
      "text/plain": [
       "(77425, 97)"
      ]
     },
     "execution_count": 7,
     "metadata": {},
     "output_type": "execute_result"
    },
    {
     "data": {
      "image/png": "[encoded data removed]",
      "text/plain": [
       "<matplotlib.figure.Figure at 0x66f28199b0>"
      ]
     },
     "metadata": {},
     "output_type": "display_data"
    }
   ],
   "source": [
    "#Graph of Address accuracy\n",
    "data.FMR.value_counts(dropna=False).plot(kind='bar', color='blue', rot=0)\n",
    "plt.xlabel('FMR')\n",
    "sns.despine()\n",
    "\n",
    "data.shape"
   ]
  },
  {
   "cell_type": "code",
   "execution_count": 7,
   "metadata": {},
   "outputs": [
    {
     "data": {
      "text/plain": [
       "(77425, 97)"
      ]
     },
     "execution_count": 7,
     "metadata": {},
     "output_type": "execute_result"
    },
    {
     "data": {
      "image/png": "[encoded data removed]",
      "text/plain": [
       "<matplotlib.figure.Figure at 0xba85e9da90>"
      ]
     },
     "metadata": {},
     "output_type": "display_data"
    }
   ],
   "source": [
    "#Graph of Address accuracy\n",
    "data.BURDEN.value_counts(dropna=False).plot(kind='bar', color='blue', rot=0)\n",
    "plt.xlabel('BURDEN')\n",
    "sns.despine()\n",
    "\n",
    "data.shape"
   ]
  },
  {
   "cell_type": "markdown",
   "metadata": {},
   "source": [
    "#### Boxplot for Fair market rent"
   ]
  },
  {
   "cell_type": "code",
   "execution_count": 7,
   "metadata": {},
   "outputs": [
    {
     "data": {
      "text/plain": [
       "<matplotlib.axes._subplots.AxesSubplot at 0xf90552f7b8>"
      ]
     },
     "execution_count": 7,
     "metadata": {},
     "output_type": "execute_result"
    },
    {
     "data": {
      "image/png": "[encoded data removed]",
      "text/plain": [
       "<matplotlib.figure.Figure at 0xf9058ab860>"
      ]
     },
     "metadata": {},
     "output_type": "display_data"
    }
   ],
   "source": [
    "sns.boxplot(data.FMR)"
   ]
  },
  {
   "cell_type": "code",
   "execution_count": 8,
   "metadata": {},
   "outputs": [
    {
     "data": {
      "text/plain": [
       "count    77425.000000\n",
       "mean       613.592431\n",
       "std        225.926374\n",
       "min        171.000000\n",
       "25%        455.000000\n",
       "50%        572.000000\n",
       "75%        737.000000\n",
       "max       1843.000000\n",
       "Name: FMR, dtype: float64"
      ]
     },
     "execution_count": 8,
     "metadata": {},
     "output_type": "execute_result"
    }
   ],
   "source": [
    "data[\"FMR\"].describe()"
   ]
  },
  {
   "cell_type": "code",
   "execution_count": 9,
   "metadata": {
    "collapsed": true
   },
   "outputs": [],
   "source": [
    "fmr=data[\"FMR\"]"
   ]
  },
  {
   "cell_type": "code",
   "execution_count": 10,
   "metadata": {},
   "outputs": [
    {
     "data": {
      "text/plain": [
       "0    380\n",
       "1    349\n",
       "2    350\n",
       "3    289\n",
       "4    596\n",
       "Name: FMR, dtype: int64"
      ]
     },
     "execution_count": 10,
     "metadata": {},
     "output_type": "execute_result"
    }
   ],
   "source": [
    "fmr.head()"
   ]
  },
  {
   "cell_type": "code",
   "execution_count": 11,
   "metadata": {
    "collapsed": true
   },
   "outputs": [],
   "source": [
    "data1=data[(data>fmr.quantile(0.5))& (data<fmr.quantile(.95))]"
   ]
  },
  {
   "cell_type": "markdown",
   "metadata": {},
   "source": [
    "#### Boxplot after removing outliers"
   ]
  },
  {
   "cell_type": "code",
   "execution_count": 12,
   "metadata": {},
   "outputs": [
    {
     "data": {
      "text/plain": [
       "<matplotlib.axes._subplots.AxesSubplot at 0xf905a7e710>"
      ]
     },
     "execution_count": 12,
     "metadata": {},
     "output_type": "execute_result"
    },
    {
     "data": {
      "image/png": "[encoded data removed]",
      "text/plain": [
       "<matplotlib.figure.Figure at 0xf905a72080>"
      ]
     },
     "metadata": {},
     "output_type": "display_data"
    }
   ],
   "source": [
    "sns.boxplot(data1.FMR)"
   ]
  },
  {
   "cell_type": "markdown",
   "metadata": {},
   "source": [
    "#### Boxplot for burden"
   ]
  },
  {
   "cell_type": "code",
   "execution_count": 13,
   "metadata": {},
   "outputs": [
    {
     "data": {
      "text/plain": [
       "<matplotlib.axes._subplots.AxesSubplot at 0xf9058657f0>"
      ]
     },
     "execution_count": 13,
     "metadata": {},
     "output_type": "execute_result"
    },
    {
     "data": {
      "image/png": "[encoded data removed]",
      "text/plain": [
       "<matplotlib.figure.Figure at 0xf905871748>"
      ]
     },
     "metadata": {},
     "output_type": "display_data"
    }
   ],
   "source": [
    "sns.boxplot(data.BURDEN)"
   ]
  },
  {
   "cell_type": "code",
   "execution_count": 14,
   "metadata": {
    "collapsed": true
   },
   "outputs": [],
   "source": [
    "burden=data[\"BURDEN\"]"
   ]
  },
  {
   "cell_type": "code",
   "execution_count": 15,
   "metadata": {},
   "outputs": [
    {
     "data": {
      "text/plain": [
       "0    0.317333\n",
       "1    0.323662\n",
       "2   -9.000000\n",
       "3    0.318000\n",
       "4    0.277371\n",
       "Name: BURDEN, dtype: float64"
      ]
     },
     "execution_count": 15,
     "metadata": {},
     "output_type": "execute_result"
    }
   ],
   "source": [
    "burden.head()"
   ]
  },
  {
   "cell_type": "code",
   "execution_count": 16,
   "metadata": {
    "collapsed": true
   },
   "outputs": [],
   "source": [
    "data1=data[(data>burden.quantile(0.5))& (data<burden.quantile(.95))]"
   ]
  },
  {
   "cell_type": "markdown",
   "metadata": {},
   "source": [
    "#### Boxplot after removing outliers in burden"
   ]
  },
  {
   "cell_type": "code",
   "execution_count": 17,
   "metadata": {},
   "outputs": [
    {
     "data": {
      "text/plain": [
       "<matplotlib.axes._subplots.AxesSubplot at 0xf90588e0f0>"
      ]
     },
     "execution_count": 17,
     "metadata": {},
     "output_type": "execute_result"
    },
    {
     "data": {
      "image/png": "[encoded data removed]",
      "text/plain": [
       "<matplotlib.figure.Figure at 0xf905a1cc88>"
      ]
     },
     "metadata": {},
     "output_type": "display_data"
    }
   ],
   "source": [
    "sns.boxplot(data1.BURDEN)"
   ]
  },
  {
   "cell_type": "code",
   "execution_count": null,
   "metadata": {
    "collapsed": true
   },
   "outputs": [],
   "source": []
  },
  {
   "cell_type": "markdown",
   "metadata": {},
   "source": [
    "#### Convert categorical variable into dummy/indicator variables"
   ]
  },
  {
   "cell_type": "code",
   "execution_count": 18,
   "metadata": {
    "collapsed": true
   },
   "outputs": [],
   "source": [
    "one_hot= pd.get_dummies(data)"
   ]
  },
  {
   "cell_type": "code",
   "execution_count": 19,
   "metadata": {},
   "outputs": [
    {
     "data": {
      "text/html": [
       "<div>\n",
       "<style>\n",
       "    .dataframe thead tr:only-child th {\n",
       "        text-align: right;\n",
       "    }\n",
       "\n",
       "    .dataframe thead th {\n",
       "        text-align: left;\n",
       "    }\n",
       "\n",
       "    .dataframe tbody tr th {\n",
       "        vertical-align: top;\n",
       "    }\n",
       "</style>\n",
       "<table border=\"1\" class=\"dataframe\">\n",
       "  <thead>\n",
       "    <tr style=\"text-align: right;\">\n",
       "      <th></th>\n",
       "      <th>ABL50</th>\n",
       "      <th>ABL80</th>\n",
       "      <th>ABLMED</th>\n",
       "      <th>AGE</th>\n",
       "      <th>APLMED</th>\n",
       "      <th>ASSISTED</th>\n",
       "      <th>BEDRMS</th>\n",
       "      <th>BUILT</th>\n",
       "      <th>BURDEN</th>\n",
       "      <th>CONTROL</th>\n",
       "      <th>...</th>\n",
       "      <th>FMTSTATUS_3 Vacant</th>\n",
       "      <th>FMTSTRUCTURETYPE_1 Single Family</th>\n",
       "      <th>FMTSTRUCTURETYPE_2 2-4 units</th>\n",
       "      <th>FMTSTRUCTURETYPE_3 5-19 units</th>\n",
       "      <th>FMTSTRUCTURETYPE_4 20-49 units</th>\n",
       "      <th>FMTSTRUCTURETYPE_5 50+ units</th>\n",
       "      <th>FMTSTRUCTURETYPE_6 Mobile Home</th>\n",
       "      <th>FMTZADEQ_1 Adequate</th>\n",
       "      <th>FMTZADEQ_2 Moderately Inadequ</th>\n",
       "      <th>FMTZADEQ_3 Severely Indadequa</th>\n",
       "    </tr>\n",
       "  </thead>\n",
       "  <tbody>\n",
       "    <tr>\n",
       "      <th>count</th>\n",
       "      <td>77425.000000</td>\n",
       "      <td>77425.000000</td>\n",
       "      <td>77425.000000</td>\n",
       "      <td>77425.000000</td>\n",
       "      <td>77425.000000</td>\n",
       "      <td>77425.000000</td>\n",
       "      <td>77425.000000</td>\n",
       "      <td>77425.000000</td>\n",
       "      <td>77425.000000</td>\n",
       "      <td>7.742500e+04</td>\n",
       "      <td>...</td>\n",
       "      <td>77425.000000</td>\n",
       "      <td>77425.000000</td>\n",
       "      <td>77425.000000</td>\n",
       "      <td>77425.000000</td>\n",
       "      <td>77425.000000</td>\n",
       "      <td>77425.000000</td>\n",
       "      <td>77425.000000</td>\n",
       "      <td>77425.000000</td>\n",
       "      <td>77425.000000</td>\n",
       "      <td>77425.000000</td>\n",
       "    </tr>\n",
       "    <tr>\n",
       "      <th>mean</th>\n",
       "      <td>19001.808641</td>\n",
       "      <td>29536.469807</td>\n",
       "      <td>37231.348554</td>\n",
       "      <td>45.172464</td>\n",
       "      <td>30973.239931</td>\n",
       "      <td>0.049829</td>\n",
       "      <td>2.554098</td>\n",
       "      <td>17.688021</td>\n",
       "      <td>1.157491</td>\n",
       "      <td>3.908484e+11</td>\n",
       "      <td>...</td>\n",
       "      <td>0.058831</td>\n",
       "      <td>0.657152</td>\n",
       "      <td>0.114834</td>\n",
       "      <td>0.104902</td>\n",
       "      <td>0.036164</td>\n",
       "      <td>0.039354</td>\n",
       "      <td>0.047594</td>\n",
       "      <td>0.911966</td>\n",
       "      <td>0.066981</td>\n",
       "      <td>0.021053</td>\n",
       "    </tr>\n",
       "    <tr>\n",
       "      <th>std</th>\n",
       "      <td>5441.520330</td>\n",
       "      <td>7891.196244</td>\n",
       "      <td>10770.310632</td>\n",
       "      <td>21.664621</td>\n",
       "      <td>12348.528658</td>\n",
       "      <td>0.217593</td>\n",
       "      <td>1.040806</td>\n",
       "      <td>29.601049</td>\n",
       "      <td>110.392267</td>\n",
       "      <td>1.645893e+11</td>\n",
       "      <td>...</td>\n",
       "      <td>0.235310</td>\n",
       "      <td>0.474664</td>\n",
       "      <td>0.318823</td>\n",
       "      <td>0.306428</td>\n",
       "      <td>0.186699</td>\n",
       "      <td>0.194438</td>\n",
       "      <td>0.212908</td>\n",
       "      <td>0.283346</td>\n",
       "      <td>0.249991</td>\n",
       "      <td>0.143561</td>\n",
       "    </tr>\n",
       "    <tr>\n",
       "      <th>min</th>\n",
       "      <td>6949.001277</td>\n",
       "      <td>11124.026170</td>\n",
       "      <td>13220.715200</td>\n",
       "      <td>-9.000000</td>\n",
       "      <td>-9.000000</td>\n",
       "      <td>0.000000</td>\n",
       "      <td>0.000000</td>\n",
       "      <td>1.000000</td>\n",
       "      <td>-9.000000</td>\n",
       "      <td>1.000000e+11</td>\n",
       "      <td>...</td>\n",
       "      <td>0.000000</td>\n",
       "      <td>0.000000</td>\n",
       "      <td>0.000000</td>\n",
       "      <td>0.000000</td>\n",
       "      <td>0.000000</td>\n",
       "      <td>0.000000</td>\n",
       "      <td>0.000000</td>\n",
       "      <td>0.000000</td>\n",
       "      <td>0.000000</td>\n",
       "      <td>0.000000</td>\n",
       "    </tr>\n",
       "    <tr>\n",
       "      <th>25%</th>\n",
       "      <td>14751.000000</td>\n",
       "      <td>23577.428570</td>\n",
       "      <td>28935.000000</td>\n",
       "      <td>32.000000</td>\n",
       "      <td>24421.976000</td>\n",
       "      <td>0.000000</td>\n",
       "      <td>2.000000</td>\n",
       "      <td>4.000000</td>\n",
       "      <td>0.100200</td>\n",
       "      <td>2.800000e+11</td>\n",
       "      <td>...</td>\n",
       "      <td>0.000000</td>\n",
       "      <td>0.000000</td>\n",
       "      <td>0.000000</td>\n",
       "      <td>0.000000</td>\n",
       "      <td>0.000000</td>\n",
       "      <td>0.000000</td>\n",
       "      <td>0.000000</td>\n",
       "      <td>1.000000</td>\n",
       "      <td>0.000000</td>\n",
       "      <td>0.000000</td>\n",
       "    </tr>\n",
       "    <tr>\n",
       "      <th>50%</th>\n",
       "      <td>18456.897730</td>\n",
       "      <td>28523.571430</td>\n",
       "      <td>35910.000000</td>\n",
       "      <td>44.000000</td>\n",
       "      <td>31220.000000</td>\n",
       "      <td>0.000000</td>\n",
       "      <td>3.000000</td>\n",
       "      <td>5.000000</td>\n",
       "      <td>0.186286</td>\n",
       "      <td>3.880000e+11</td>\n",
       "      <td>...</td>\n",
       "      <td>0.000000</td>\n",
       "      <td>1.000000</td>\n",
       "      <td>0.000000</td>\n",
       "      <td>0.000000</td>\n",
       "      <td>0.000000</td>\n",
       "      <td>0.000000</td>\n",
       "      <td>0.000000</td>\n",
       "      <td>1.000000</td>\n",
       "      <td>0.000000</td>\n",
       "      <td>0.000000</td>\n",
       "    </tr>\n",
       "    <tr>\n",
       "      <th>75%</th>\n",
       "      <td>22874.361700</td>\n",
       "      <td>35930.700000</td>\n",
       "      <td>44149.600000</td>\n",
       "      <td>61.000000</td>\n",
       "      <td>37823.184000</td>\n",
       "      <td>0.000000</td>\n",
       "      <td>3.000000</td>\n",
       "      <td>9.000000</td>\n",
       "      <td>0.304167</td>\n",
       "      <td>4.900000e+11</td>\n",
       "      <td>...</td>\n",
       "      <td>0.000000</td>\n",
       "      <td>1.000000</td>\n",
       "      <td>0.000000</td>\n",
       "      <td>0.000000</td>\n",
       "      <td>0.000000</td>\n",
       "      <td>0.000000</td>\n",
       "      <td>0.000000</td>\n",
       "      <td>1.000000</td>\n",
       "      <td>0.000000</td>\n",
       "      <td>0.000000</td>\n",
       "    </tr>\n",
       "    <tr>\n",
       "      <th>max</th>\n",
       "      <td>60721.650000</td>\n",
       "      <td>75574.575760</td>\n",
       "      <td>103976.000000</td>\n",
       "      <td>91.000000</td>\n",
       "      <td>100152.000000</td>\n",
       "      <td>1.000000</td>\n",
       "      <td>10.000000</td>\n",
       "      <td>96.000000</td>\n",
       "      <td>17706.000000</td>\n",
       "      <td>7.330000e+11</td>\n",
       "      <td>...</td>\n",
       "      <td>1.000000</td>\n",
       "      <td>1.000000</td>\n",
       "      <td>1.000000</td>\n",
       "      <td>1.000000</td>\n",
       "      <td>1.000000</td>\n",
       "      <td>1.000000</td>\n",
       "      <td>1.000000</td>\n",
       "      <td>1.000000</td>\n",
       "      <td>1.000000</td>\n",
       "      <td>1.000000</td>\n",
       "    </tr>\n",
       "  </tbody>\n",
       "</table>\n",
       "<p>8 rows × 185 columns</p>\n",
       "</div>"
      ],
      "text/plain": [
       "              ABL50         ABL80         ABLMED           AGE         APLMED  \\\n",
       "count  77425.000000  77425.000000   77425.000000  77425.000000   77425.000000   \n",
       "mean   19001.808641  29536.469807   37231.348554     45.172464   30973.239931   \n",
       "std     5441.520330   7891.196244   10770.310632     21.664621   12348.528658   \n",
       "min     6949.001277  11124.026170   13220.715200     -9.000000      -9.000000   \n",
       "25%    14751.000000  23577.428570   28935.000000     32.000000   24421.976000   \n",
       "50%    18456.897730  28523.571430   35910.000000     44.000000   31220.000000   \n",
       "75%    22874.361700  35930.700000   44149.600000     61.000000   37823.184000   \n",
       "max    60721.650000  75574.575760  103976.000000     91.000000  100152.000000   \n",
       "\n",
       "           ASSISTED        BEDRMS         BUILT        BURDEN       CONTROL  \\\n",
       "count  77425.000000  77425.000000  77425.000000  77425.000000  7.742500e+04   \n",
       "mean       0.049829      2.554098     17.688021      1.157491  3.908484e+11   \n",
       "std        0.217593      1.040806     29.601049    110.392267  1.645893e+11   \n",
       "min        0.000000      0.000000      1.000000     -9.000000  1.000000e+11   \n",
       "25%        0.000000      2.000000      4.000000      0.100200  2.800000e+11   \n",
       "50%        0.000000      3.000000      5.000000      0.186286  3.880000e+11   \n",
       "75%        0.000000      3.000000      9.000000      0.304167  4.900000e+11   \n",
       "max        1.000000     10.000000     96.000000  17706.000000  7.330000e+11   \n",
       "\n",
       "                   ...                FMTSTATUS_3 Vacant  \\\n",
       "count              ...                      77425.000000   \n",
       "mean               ...                          0.058831   \n",
       "std                ...                          0.235310   \n",
       "min                ...                          0.000000   \n",
       "25%                ...                          0.000000   \n",
       "50%                ...                          0.000000   \n",
       "75%                ...                          0.000000   \n",
       "max                ...                          1.000000   \n",
       "\n",
       "       FMTSTRUCTURETYPE_1 Single Family  FMTSTRUCTURETYPE_2 2-4 units  \\\n",
       "count                      77425.000000                  77425.000000   \n",
       "mean                           0.657152                      0.114834   \n",
       "std                            0.474664                      0.318823   \n",
       "min                            0.000000                      0.000000   \n",
       "25%                            0.000000                      0.000000   \n",
       "50%                            1.000000                      0.000000   \n",
       "75%                            1.000000                      0.000000   \n",
       "max                            1.000000                      1.000000   \n",
       "\n",
       "       FMTSTRUCTURETYPE_3 5-19 units  FMTSTRUCTURETYPE_4 20-49 units  \\\n",
       "count                   77425.000000                    77425.000000   \n",
       "mean                        0.104902                        0.036164   \n",
       "std                         0.306428                        0.186699   \n",
       "min                         0.000000                        0.000000   \n",
       "25%                         0.000000                        0.000000   \n",
       "50%                         0.000000                        0.000000   \n",
       "75%                         0.000000                        0.000000   \n",
       "max                         1.000000                        1.000000   \n",
       "\n",
       "       FMTSTRUCTURETYPE_5 50+ units  FMTSTRUCTURETYPE_6 Mobile Home  \\\n",
       "count                  77425.000000                    77425.000000   \n",
       "mean                       0.039354                        0.047594   \n",
       "std                        0.194438                        0.212908   \n",
       "min                        0.000000                        0.000000   \n",
       "25%                        0.000000                        0.000000   \n",
       "50%                        0.000000                        0.000000   \n",
       "75%                        0.000000                        0.000000   \n",
       "max                        1.000000                        1.000000   \n",
       "\n",
       "       FMTZADEQ_1 Adequate  FMTZADEQ_2 Moderately Inadequ  \\\n",
       "count         77425.000000                   77425.000000   \n",
       "mean              0.911966                       0.066981   \n",
       "std               0.283346                       0.249991   \n",
       "min               0.000000                       0.000000   \n",
       "25%               1.000000                       0.000000   \n",
       "50%               1.000000                       0.000000   \n",
       "75%               1.000000                       0.000000   \n",
       "max               1.000000                       1.000000   \n",
       "\n",
       "       FMTZADEQ_3 Severely Indadequa  \n",
       "count                   77425.000000  \n",
       "mean                        0.021053  \n",
       "std                         0.143561  \n",
       "min                         0.000000  \n",
       "25%                         0.000000  \n",
       "50%                         0.000000  \n",
       "75%                         0.000000  \n",
       "max                         1.000000  \n",
       "\n",
       "[8 rows x 185 columns]"
      ]
     },
     "execution_count": 19,
     "metadata": {},
     "output_type": "execute_result"
    }
   ],
   "source": [
    "one_hot.describe()"
   ]
  },
  {
   "cell_type": "code",
   "execution_count": 20,
   "metadata": {},
   "outputs": [
    {
     "data": {
      "text/plain": [
       "77425"
      ]
     },
     "execution_count": 20,
     "metadata": {},
     "output_type": "execute_result"
    }
   ],
   "source": [
    "len(one_hot)"
   ]
  },
  {
   "cell_type": "code",
   "execution_count": null,
   "metadata": {
    "collapsed": true
   },
   "outputs": [],
   "source": []
  },
  {
   "cell_type": "code",
   "execution_count": null,
   "metadata": {
    "collapsed": true
   },
   "outputs": [],
   "source": []
  },
  {
   "cell_type": "markdown",
   "metadata": {},
   "source": [
    "#### Printing attributes"
   ]
  },
  {
   "cell_type": "code",
   "execution_count": 21,
   "metadata": {
    "scrolled": true
   },
   "outputs": [
    {
     "name": "stdout",
     "output_type": "stream",
     "text": [
      "ABL50\n",
      "ABL80\n",
      "ABLMED\n",
      "AGE\n",
      "APLMED\n",
      "ASSISTED\n",
      "BEDRMS\n",
      "BUILT\n",
      "BURDEN\n",
      "CONTROL\n",
      "COST06\n",
      "COST06RELAMICAT\n",
      "COST06RELAMIPCT\n",
      "COST06RELFMRCAT\n",
      "COST06RELFMRPCT\n",
      "COST06RELPOVCAT\n",
      "COST06RELPOVPCT\n",
      "COST08\n",
      "COST08RELAMICAT\n",
      "COST08RELAMIPCT\n",
      "COST08RELFMRCAT\n",
      "COST08RELFMRPCT\n",
      "COST08RELPOVCAT\n",
      "COST08RELPOVPCT\n",
      "COST12\n",
      "COST12RELAMICAT\n",
      "COST12RELAMIPCT\n",
      "COST12RELFMRCAT\n",
      "COST12RELFMRPCT\n",
      "COST12RELPOVCAT\n",
      "COST12RELPOVPCT\n",
      "COSTMed\n",
      "COSTMedRELAMICAT\n",
      "COSTMedRELAMIPCT\n",
      "COSTMedRELFMRCAT\n",
      "COSTMedRELFMRPCT\n",
      "COSTMedRELPOVCAT\n",
      "COSTMedRELPOVPCT\n",
      "FMR\n",
      "GL50\n",
      "GL80\n",
      "GLMED\n",
      "INCRELAMICAT\n",
      "INCRELAMIPCT\n",
      "INCRELFMRCAT\n",
      "INCRELFMRPCT\n",
      "INCRELPOVCAT\n",
      "INCRELPOVPCT\n",
      "IPOV\n",
      "ISTATUS\n",
      "L50\n",
      "L80\n",
      "LMED\n",
      "METRO\n",
      "NUNITS\n",
      "OTHERCOST\n",
      "OWNRENT\n",
      "PER\n",
      "REGION\n",
      "ROOMS\n",
      "STRUCTURETYPE\n",
      "TENURE\n",
      "TOTSAL\n",
      "TYPE\n",
      "UTILITY\n",
      "VACANCY\n",
      "VALUE\n",
      "WEIGHT\n",
      "ZADEQ\n",
      "ZINC2\n",
      "ZSMHC\n",
      "DSYEAR\n",
      "FMTASSISTED_0 Not Assisted\n",
      "FMTASSISTED_1 Assisted\n",
      "FMTBEDRMS_0 Studio\n",
      "FMTBEDRMS_1 1BR\n",
      "FMTBEDRMS_2 2BR\n",
      "FMTBEDRMS_3 3BR\n",
      "FMTBEDRMS_4 4BR+\n",
      "FMTBUILT_-5\n",
      "FMTBUILT_1940-1959\n",
      "FMTBUILT_1960-1979\n",
      "FMTBUILT_1980-1989\n",
      "FMTBUILT_1990-1999\n",
      "FMTBURDEN_.\n",
      "FMTBURDEN_0\n",
      "FMTBURDEN_1 Less than 30%\n",
      "FMTBURDEN_2 30% to 50%\n",
      "FMTBURDEN_3 50% or More\n",
      "FMTBURDEN_4 No Income\n",
      "FMTCOST06RELAMICAT_1 LTE 30% AMI\n",
      "FMTCOST06RELAMICAT_2 30 - 50% AMI\n",
      "FMTCOST06RELAMICAT_3 50 - 60% AMI\n",
      "FMTCOST06RELAMICAT_4 60 - 80% AMI\n",
      "FMTCOST06RELAMICAT_5 80 - 100% AMI\n",
      "FMTCOST06RELAMICAT_6 100 - 120% AMI\n",
      "FMTCOST06RELAMICAT_7 120% AMI +\n",
      "FMTCOST06RELFMRCAT_1 LTE 50% FMR\n",
      "FMTCOST06RELFMRCAT_2 50.1 - 100% FMR\n",
      "FMTCOST06RELFMRCAT_3 GT FMR\n",
      "FMTCOST06RELPOVCAT_1 LTE Poverty\n",
      "FMTCOST06RELPOVCAT_2 100-150% Poverty\n",
      "FMTCOST06RELPOVCAT_3 150-200% Poverty\n",
      "FMTCOST06RELPOVCAT_4 200%+ Poverty\n",
      "FMTCOST08RELAMICAT_1 LTE 30% AMI\n",
      "FMTCOST08RELAMICAT_2 30 - 50% AMI\n",
      "FMTCOST08RELAMICAT_3 50 - 60% AMI\n",
      "FMTCOST08RELAMICAT_4 60 - 80% AMI\n",
      "FMTCOST08RELAMICAT_5 80 - 100% AMI\n",
      "FMTCOST08RELAMICAT_6 100 - 120% AMI\n",
      "FMTCOST08RELAMICAT_7 120% AMI +\n",
      "FMTCOST08RELFMRCAT_1 LTE 50% FMR\n",
      "FMTCOST08RELFMRCAT_2 50.1 - 100% FMR\n",
      "FMTCOST08RELFMRCAT_3 GT FMR\n",
      "FMTCOST08RELPOVCAT_1 LTE Poverty\n",
      "FMTCOST08RELPOVCAT_2 100-150% Poverty\n",
      "FMTCOST08RELPOVCAT_3 150-200% Poverty\n",
      "FMTCOST08RELPOVCAT_4 200%+ Poverty\n",
      "FMTCOST12RELAMICAT_1 LTE 30% AMI\n",
      "FMTCOST12RELAMICAT_2 30 - 50% AMI\n",
      "FMTCOST12RELAMICAT_3 50 - 60% AMI\n",
      "FMTCOST12RELAMICAT_4 60 - 80% AMI\n",
      "FMTCOST12RELAMICAT_5 80 - 100% AMI\n",
      "FMTCOST12RELAMICAT_6 100 - 120% AMI\n",
      "FMTCOST12RELAMICAT_7 120% AMI +\n",
      "FMTCOST12RELFMRCAT_1 LTE 50% FMR\n",
      "FMTCOST12RELFMRCAT_2 50.1 - 100% FMR\n",
      "FMTCOST12RELFMRCAT_3 GT FMR\n",
      "FMTCOST12RELPOVCAT_1 LTE Poverty\n",
      "FMTCOST12RELPOVCAT_2 100-150% Poverty\n",
      "FMTCOST12RELPOVCAT_3 150-200% Poverty\n",
      "FMTCOST12RELPOVCAT_4 200%+ Poverty\n",
      "FMTCOSTMEDRELAMICAT_1 LTE 30% AMI\n",
      "FMTCOSTMEDRELAMICAT_2 30 - 50% AMI\n",
      "FMTCOSTMEDRELAMICAT_3 50 - 60% AMI\n",
      "FMTCOSTMEDRELAMICAT_4 60 - 80% AMI\n",
      "FMTCOSTMEDRELAMICAT_5 80 - 100% AMI\n",
      "FMTCOSTMEDRELAMICAT_6 100 - 120% AMI\n",
      "FMTCOSTMEDRELAMICAT_7 120% AMI +\n",
      "FMTCOSTMEDRELFMRCAT_1 LTE 50% FMR\n",
      "FMTCOSTMEDRELFMRCAT_2 50.1 - 100% FMR\n",
      "FMTCOSTMEDRELFMRCAT_3 GT FMR\n",
      "FMTCOSTMEDRELPOVCAT_1 LTE Poverty\n",
      "FMTCOSTMEDRELPOVCAT_2 100-150% Poverty\n",
      "FMTCOSTMEDRELPOVCAT_3 150-200% Poverty\n",
      "FMTCOSTMEDRELPOVCAT_4 200%+ Poverty\n",
      "FMTINCRELAMICAT_.\n",
      "FMTINCRELAMICAT_0\n",
      "FMTINCRELAMICAT_1 LTE 30% AMI\n",
      "FMTINCRELAMICAT_2 30 - 50% AMI\n",
      "FMTINCRELAMICAT_3 50 - 60% AMI\n",
      "FMTINCRELAMICAT_4 60 - 80% AMI\n",
      "FMTINCRELAMICAT_5 80 - 100% AMI\n",
      "FMTINCRELAMICAT_6 100 - 120% AMI\n",
      "FMTINCRELAMICAT_7 120% AMI +\n",
      "FMTINCRELFMRCAT_.\n",
      "FMTINCRELFMRCAT_0\n",
      "FMTINCRELFMRCAT_1 LTE 50% FMR\n",
      "FMTINCRELFMRCAT_2 50.1 - 100% FMR\n",
      "FMTINCRELFMRCAT_3 GT FMR\n",
      "FMTINCRELPOVCAT_.\n",
      "FMTINCRELPOVCAT_0\n",
      "FMTINCRELPOVCAT_1 LTE Poverty\n",
      "FMTINCRELPOVCAT_2 100-150% Poverty\n",
      "FMTINCRELPOVCAT_3 150-200% Poverty\n",
      "FMTINCRELPOVCAT_4 200%+ Poverty\n",
      "FMTMETRO_-5\n",
      "FMTMETRO_Central City\n",
      "FMTOWNRENT_1 OwneR\n",
      "FMTOWNRENT_1 Owner\n",
      "FMTOWNRENT_2 RenteR\n",
      "FMTOWNRENT_2 Renter\n",
      "FMTREGION_-5\n",
      "FMTREGION_West\n",
      "FMTSTATUS_1 Occupied\n",
      "FMTSTATUS_3 Vacant\n",
      "FMTSTRUCTURETYPE_1 Single Family\n",
      "FMTSTRUCTURETYPE_2 2-4 units\n",
      "FMTSTRUCTURETYPE_3 5-19 units\n",
      "FMTSTRUCTURETYPE_4 20-49 units\n",
      "FMTSTRUCTURETYPE_5 50+ units\n",
      "FMTSTRUCTURETYPE_6 Mobile Home\n",
      "FMTZADEQ_1 Adequate\n",
      "FMTZADEQ_2 Moderately Inadequ\n",
      "FMTZADEQ_3 Severely Indadequa\n"
     ]
    }
   ],
   "source": [
    "for i in one_hot.columns :\n",
    "    print (i)"
   ]
  },
  {
   "cell_type": "markdown",
   "metadata": {},
   "source": [
    "#### Normalising Fair market rent\n",
    "\n",
    "##### Normalization is the scaling technique where we can find new range from an existing one range. Here we find rent_range. "
   ]
  },
  {
   "cell_type": "code",
   "execution_count": 22,
   "metadata": {
    "collapsed": true
   },
   "outputs": [],
   "source": [
    "train_data['rent_range'] = train_data['FMR'] + 50\n",
    "train_data['rent_range'] = train_data['rent_range']/100\n",
    "import math\n",
    "train_data['rent_range'] = train_data['rent_range'].apply(lambda x : math.floor(x))"
   ]
  },
  {
   "cell_type": "markdown",
   "metadata": {},
   "source": [
    "#### Normalising burden to find a new range burden_range."
   ]
  },
  {
   "cell_type": "code",
   "execution_count": 23,
   "metadata": {
    "collapsed": true
   },
   "outputs": [],
   "source": [
    "train_data['burden_range'] = train_data['BURDEN'] + 50\n",
    "train_data['burden_range'] = train_data['burden_range']/100\n",
    "import math\n",
    "train_data['burden_range'] = train_data['burden_range'].apply(lambda x : math.floor(x))"
   ]
  },
  {
   "cell_type": "markdown",
   "metadata": {},
   "source": [
    "#### To predict FMR, we will delete all the attributes those directly afftect the FMR and try to predict it without using any direct link."
   ]
  },
  {
   "cell_type": "code",
   "execution_count": 24,
   "metadata": {
    "collapsed": true
   },
   "outputs": [],
   "source": [
    "train_data = train_data.drop(['FMR','INCRELFMRPCT','INCRELFMRCAT','FMTINCRELFMRCAT','FMTCOSTMEDRELFMRCAT','FMTCOST12RELFMRCAT','FMTCOST08RELFMRCAT','FMTCOST06RELFMRCAT','COSTMedRELFMRPCT','COSTMedRELFMRCAT','COST12RELFMRPCT','COST12RELFMRCAT','COST08RELFMRPCT','COST08RELFMRCAT','COST06RELFMRPCT','COST06RELFMRCAT','BURDEN'],axis=1)"
   ]
  },
  {
   "cell_type": "code",
   "execution_count": 25,
   "metadata": {
    "scrolled": true
   },
   "outputs": [
    {
     "name": "stdout",
     "output_type": "stream",
     "text": [
      "ABL50\n",
      "ABL80\n",
      "ABLMED\n",
      "AGE\n",
      "APLMED\n",
      "ASSISTED\n",
      "BEDRMS\n",
      "BUILT\n",
      "CONTROL\n",
      "COST06\n",
      "COST06RELAMICAT\n",
      "COST06RELAMIPCT\n",
      "COST06RELPOVCAT\n",
      "COST06RELPOVPCT\n",
      "COST08\n",
      "COST08RELAMICAT\n",
      "COST08RELAMIPCT\n",
      "COST08RELPOVCAT\n",
      "COST08RELPOVPCT\n",
      "COST12\n",
      "COST12RELAMICAT\n",
      "COST12RELAMIPCT\n",
      "COST12RELPOVCAT\n",
      "COST12RELPOVPCT\n",
      "COSTMed\n",
      "COSTMedRELAMICAT\n",
      "COSTMedRELAMIPCT\n",
      "COSTMedRELPOVCAT\n",
      "COSTMedRELPOVPCT\n",
      "FMTASSISTED\n",
      "FMTBEDRMS\n",
      "FMTBUILT\n",
      "FMTBURDEN\n",
      "FMTCOST06RELAMICAT\n",
      "FMTCOST06RELPOVCAT\n",
      "FMTCOST08RELAMICAT\n",
      "FMTCOST08RELPOVCAT\n",
      "FMTCOST12RELAMICAT\n",
      "FMTCOST12RELPOVCAT\n",
      "FMTCOSTMEDRELAMICAT\n",
      "FMTCOSTMEDRELPOVCAT\n",
      "FMTINCRELAMICAT\n",
      "FMTINCRELPOVCAT\n",
      "FMTMETRO\n",
      "FMTOWNRENT\n",
      "FMTREGION\n",
      "FMTSTATUS\n",
      "FMTSTRUCTURETYPE\n",
      "FMTZADEQ\n",
      "GL50\n",
      "GL80\n",
      "GLMED\n",
      "INCRELAMICAT\n",
      "INCRELAMIPCT\n",
      "INCRELPOVCAT\n",
      "INCRELPOVPCT\n",
      "IPOV\n",
      "ISTATUS\n",
      "L50\n",
      "L80\n",
      "LMED\n",
      "METRO\n",
      "NUNITS\n",
      "OTHERCOST\n",
      "OWNRENT\n",
      "PER\n",
      "REGION\n",
      "ROOMS\n",
      "STRUCTURETYPE\n",
      "TENURE\n",
      "TOTSAL\n",
      "TYPE\n",
      "UTILITY\n",
      "VACANCY\n",
      "VALUE\n",
      "WEIGHT\n",
      "ZADEQ\n",
      "ZINC2\n",
      "ZSMHC\n",
      "DSYEAR\n",
      "rent_range\n",
      "burden_range\n"
     ]
    }
   ],
   "source": [
    "for i in train_data.columns :\n",
    "    print (i)"
   ]
  },
  {
   "cell_type": "code",
   "execution_count": 26,
   "metadata": {},
   "outputs": [
    {
     "data": {
      "text/plain": [
       "82"
      ]
     },
     "execution_count": 26,
     "metadata": {},
     "output_type": "execute_result"
    }
   ],
   "source": [
    "len(train_data.columns)"
   ]
  },
  {
   "cell_type": "markdown",
   "metadata": {},
   "source": [
    "### pd.get_dummies can turn a categorical variable into a series of zeros and ones, which makes them a lot easier to quantify and compare."
   ]
  },
  {
   "cell_type": "code",
   "execution_count": 27,
   "metadata": {
    "collapsed": true
   },
   "outputs": [],
   "source": [
    "train_data = pd.get_dummies(train_data)\n",
    "train_data = pd.DataFrame(train_data)"
   ]
  },
  {
   "cell_type": "markdown",
   "metadata": {},
   "source": [
    "## Predicting fair market rent"
   ]
  },
  {
   "cell_type": "code",
   "execution_count": 29,
   "metadata": {
    "collapsed": true
   },
   "outputs": [],
   "source": [
    "trainmodel=[]\n",
    "testmodel=[]"
   ]
  },
  {
   "cell_type": "code",
   "execution_count": 30,
   "metadata": {},
   "outputs": [
    {
     "name": "stderr",
     "output_type": "stream",
     "text": [
      "C:\\ProgramData\\Anaconda3\\lib\\site-packages\\sklearn\\cross_validation.py:44: DeprecationWarning: This module was deprecated in version 0.18 in favor of the model_selection module into which all the refactored classes and functions are moved. Also note that the interface of the new CV iterators are different from that of this module. This module will be removed in 0.20.\n",
      "  \"This module will be removed in 0.20.\", DeprecationWarning)\n"
     ]
    }
   ],
   "source": [
    "from sklearn.cross_validation  import train_test_split\n",
    "train_X,test_X,train_y,test_y = train_test_split(train_data,train_data.rent_range,test_size=0.25,random_state=42)"
   ]
  },
  {
   "cell_type": "markdown",
   "metadata": {},
   "source": [
    "#### Decision tree"
   ]
  },
  {
   "cell_type": "markdown",
   "metadata": {},
   "source": [
    "Decision tree is an supervised learning algorithm which works for both categorical data and continuous data.Decision trees also provide the foundation for more advanced ensemble methods such as bagging, random forests and gradient boosting."
   ]
  },
  {
   "cell_type": "markdown",
   "metadata": {},
   "source": [
    "#### Printing accuracy"
   ]
  },
  {
   "cell_type": "code",
   "execution_count": 210,
   "metadata": {
    "collapsed": true
   },
   "outputs": [],
   "source": [
    "#test\n",
    "from sklearn import tree\n",
    "clf = tree.DecisionTreeClassifier(criterion='entropy', splitter='best',presort=True)\n",
    "clf.fit(train_X, train_y)\n",
    "prediction = clf.predict(test_X)\n",
    "## Computing accuracy\n",
    "from sklearn.metrics import accuracy_score\n",
    "testmodel.append(accuracy_score(prediction, test_y))\n"
   ]
  },
  {
   "cell_type": "code",
   "execution_count": 211,
   "metadata": {
    "collapsed": true
   },
   "outputs": [],
   "source": [
    "#m2-test\n",
    "from sklearn import tree\n",
    "arr=[4,6,8,10]\n",
    "for i in arr:\n",
    "    clf = tree.DecisionTreeClassifier(criterion='entropy', splitter='random',min_samples_split=i)\n",
    "    clf.fit(train_X, train_y)\n",
    "    prediction = clf.predict(test_X)\n",
    "    ## Computing accuracy\n",
    "    from sklearn.metrics import accuracy_score\n",
    "    testmodel.append(accuracy_score(prediction, test_y))"
   ]
  },
  {
   "cell_type": "code",
   "execution_count": 212,
   "metadata": {
    "collapsed": true
   },
   "outputs": [],
   "source": [
    "#m1-train\n",
    "from sklearn import tree\n",
    "clf = tree.DecisionTreeClassifier(criterion='entropy', splitter='best',presort=True)\n",
    "clf.fit(train_X, train_y)\n",
    "prediction = clf.predict(train_X)\n",
    "## Computing accuracy\n",
    "from sklearn.metrics import accuracy_score\n",
    "trainmodel.append(accuracy_score(prediction, train_y))"
   ]
  },
  {
   "cell_type": "code",
   "execution_count": 213,
   "metadata": {
    "collapsed": true
   },
   "outputs": [],
   "source": [
    "#m2-train\n",
    "from sklearn import tree\n",
    "arr=[4,6,8,10]\n",
    "for i in arr:\n",
    "    clf = tree.DecisionTreeClassifier(criterion='entropy', splitter='random',min_samples_split=i)\n",
    "    clf.fit(train_X, train_y)\n",
    "    prediction = clf.predict(train_X)\n",
    "    ## Computing accuracy\n",
    "    from sklearn.metrics import accuracy_score\n",
    "    trainmodel.append(accuracy_score(prediction, train_y))"
   ]
  },
  {
   "cell_type": "code",
   "execution_count": 214,
   "metadata": {},
   "outputs": [
    {
     "data": {
      "text/plain": [
       "[1.0, 1.0, 0.99995402298850578, 1.0, 0.99963218390804598, 0.99990804597701144]"
      ]
     },
     "execution_count": 214,
     "metadata": {},
     "output_type": "execute_result"
    }
   ],
   "source": [
    "trainmodel"
   ]
  },
  {
   "cell_type": "code",
   "execution_count": 215,
   "metadata": {},
   "outputs": [
    {
     "data": {
      "text/plain": [
       "[1.0, 1.0, 0.99972413793103443, 0.99972413793103443, 1.0, 1.0]"
      ]
     },
     "execution_count": 215,
     "metadata": {},
     "output_type": "execute_result"
    }
   ],
   "source": [
    "testmodel"
   ]
  },
  {
   "cell_type": "code",
   "execution_count": 216,
   "metadata": {},
   "outputs": [
    {
     "data": {
      "text/plain": [
       "<matplotlib.axes._subplots.AxesSubplot at 0xebca986438>"
      ]
     },
     "execution_count": 216,
     "metadata": {},
     "output_type": "execute_result"
    },
    {
     "data": {
      "image/png": "[encoded data removed]",
      "text/plain": [
       "<matplotlib.figure.Figure at 0xebca9ade48>"
      ]
     },
     "metadata": {},
     "output_type": "display_data"
    }
   ],
   "source": [
    "dat=pd.DataFrame(index=[1,2,3,4,5,6])\n",
    "dat['validation error']=testmodel\n",
    "dat['training error']=trainmodel\n",
    "#dat.set_index(\"models\")\n",
    "dat.plot(title=\"Models Pereformance Graph\")"
   ]
  },
  {
   "cell_type": "code",
   "execution_count": 217,
   "metadata": {
    "collapsed": true
   },
   "outputs": [],
   "source": [
    "dat['difference']=dat['training error']-dat['validation error']"
   ]
  },
  {
   "cell_type": "code",
   "execution_count": 218,
   "metadata": {},
   "outputs": [
    {
     "data": {
      "text/html": [
       "<div>\n",
       "<style>\n",
       "    .dataframe thead tr:only-child th {\n",
       "        text-align: right;\n",
       "    }\n",
       "\n",
       "    .dataframe thead th {\n",
       "        text-align: left;\n",
       "    }\n",
       "\n",
       "    .dataframe tbody tr th {\n",
       "        vertical-align: top;\n",
       "    }\n",
       "</style>\n",
       "<table border=\"1\" class=\"dataframe\">\n",
       "  <thead>\n",
       "    <tr style=\"text-align: right;\">\n",
       "      <th></th>\n",
       "      <th>validation error</th>\n",
       "      <th>training error</th>\n",
       "      <th>difference</th>\n",
       "    </tr>\n",
       "  </thead>\n",
       "  <tbody>\n",
       "    <tr>\n",
       "      <th>1</th>\n",
       "      <td>1.000000</td>\n",
       "      <td>1.000000</td>\n",
       "      <td>0.000000</td>\n",
       "    </tr>\n",
       "    <tr>\n",
       "      <th>2</th>\n",
       "      <td>1.000000</td>\n",
       "      <td>1.000000</td>\n",
       "      <td>0.000000</td>\n",
       "    </tr>\n",
       "    <tr>\n",
       "      <th>3</th>\n",
       "      <td>0.999724</td>\n",
       "      <td>0.999954</td>\n",
       "      <td>0.000230</td>\n",
       "    </tr>\n",
       "    <tr>\n",
       "      <th>4</th>\n",
       "      <td>0.999724</td>\n",
       "      <td>1.000000</td>\n",
       "      <td>0.000276</td>\n",
       "    </tr>\n",
       "    <tr>\n",
       "      <th>5</th>\n",
       "      <td>1.000000</td>\n",
       "      <td>0.999632</td>\n",
       "      <td>-0.000368</td>\n",
       "    </tr>\n",
       "    <tr>\n",
       "      <th>6</th>\n",
       "      <td>1.000000</td>\n",
       "      <td>0.999908</td>\n",
       "      <td>-0.000092</td>\n",
       "    </tr>\n",
       "  </tbody>\n",
       "</table>\n",
       "</div>"
      ],
      "text/plain": [
       "   validation error  training error  difference\n",
       "1          1.000000        1.000000    0.000000\n",
       "2          1.000000        1.000000    0.000000\n",
       "3          0.999724        0.999954    0.000230\n",
       "4          0.999724        1.000000    0.000276\n",
       "5          1.000000        0.999632   -0.000368\n",
       "6          1.000000        0.999908   -0.000092"
      ]
     },
     "execution_count": 218,
     "metadata": {},
     "output_type": "execute_result"
    }
   ],
   "source": [
    "dat"
   ]
  },
  {
   "cell_type": "markdown",
   "metadata": {},
   "source": [
    "#### Analysing the above table which gives us the differnce between tarining and validating error we can conclude that the model with least differnce is the best model. So the 1st model is the  best model in decision tree analysis of our data set.   "
   ]
  },
  {
   "cell_type": "markdown",
   "metadata": {},
   "source": [
    "### XGBoost"
   ]
  },
  {
   "cell_type": "markdown",
   "metadata": {},
   "source": [
    "Gradient boosting is a machine learning technique for regression and classification problems, which produces a prediction model in the form of an ensemble of weak prediction models and also helps to reduce overfitting."
   ]
  },
  {
   "cell_type": "code",
   "execution_count": 270,
   "metadata": {
    "collapsed": true
   },
   "outputs": [],
   "source": [
    "xgboosterror=[]\n",
    "xgboostmodels=[]"
   ]
  },
  {
   "cell_type": "code",
   "execution_count": 48,
   "metadata": {},
   "outputs": [
    {
     "data": {
      "text/plain": [
       "0.02585838673580652"
      ]
     },
     "execution_count": 48,
     "metadata": {},
     "output_type": "execute_result"
    }
   ],
   "source": [
    "import xgboost as xg\n",
    "\n",
    "max_depth = 6\n",
    "min_child_weight = 5\n",
    "subsample = 1\n",
    "num_estimators = 100\n",
    "colsample_bytree = 1\n",
    "objective = 'reg:linear'\n",
    "learning_rate = 0.05\n",
    "\n",
    "features = train_X\n",
    "target = train_y\n",
    "mdl = xg.XGBRegressor(max_depth=max_depth,\n",
    "                min_child_weight=min_child_weight,\n",
    "                subsample=subsample,\n",
    "                colsample_bytree=colsample_bytree,\n",
    "                objective=objective,\n",
    "                n_estimators=num_estimators,\n",
    "                learning_rate=learning_rate)\n",
    "mdl.fit(features, target)\n",
    "predicted = mdl.predict(train_X)\n",
    "\n",
    "from sklearn.metrics import explained_variance_score\n",
    "from sklearn.metrics import r2_score\n",
    "#r2_score(predicted, y_test)\n",
    "\n",
    "explained_variance_score(predicted, train_y)\n",
    "from sklearn.metrics import mean_absolute_error\n",
    "rms = mean_absolute_error(train_y,predicted)\n",
    "xgboosterror.append(rms)\n",
    "rms\n",
    "\n"
   ]
  },
  {
   "cell_type": "code",
   "execution_count": 49,
   "metadata": {},
   "outputs": [
    {
     "data": {
      "text/plain": [
       "0.025897619083009919"
      ]
     },
     "execution_count": 49,
     "metadata": {},
     "output_type": "execute_result"
    }
   ],
   "source": [
    "import xgboost as xg\n",
    "\n",
    "\n",
    "max_depth = 6\n",
    "min_child_weight = 5\n",
    "subsample = 1\n",
    "num_estimators = 100\n",
    "colsample_bytree = 1\n",
    "objective = 'reg:linear'\n",
    "learning_rate = 0.05\n",
    "\n",
    "features = train_X\n",
    "target = train_y\n",
    "mdl = xg.XGBRegressor(max_depth=max_depth,\n",
    "                min_child_weight=min_child_weight,\n",
    "                subsample=subsample,\n",
    "                colsample_bytree=colsample_bytree,\n",
    "                objective=objective,\n",
    "                n_estimators=num_estimators,\n",
    "                learning_rate=learning_rate)\n",
    "mdl.fit(features, target)\n",
    "predicted = mdl.predict(test_X)\n",
    "\n",
    "from sklearn.metrics import explained_variance_score\n",
    "from sklearn.metrics import r2_score\n",
    "#r2_score(predicted, y_test)\n",
    "\n",
    "explained_variance_score(predicted, test_y)\n",
    "from sklearn.metrics import mean_absolute_error\n",
    "rms = mean_absolute_error(test_y,predicted)\n",
    "xgboostmodels.append(rms)\n",
    "rms"
   ]
  },
  {
   "cell_type": "code",
   "execution_count": 50,
   "metadata": {
    "collapsed": true
   },
   "outputs": [],
   "source": [
    "from sklearn.model_selection import train_test_split  \n",
    "from xgboost.sklearn import XGBRegressor\n",
    "\n",
    "\n",
    "for i in [6,7,8,9,10,11]:\n",
    "    max_depth = i #max tree depth for base learnears\n",
    "    min_child_weight = 5 #min sum of instance weight needed in a child\n",
    "    subsample = 1 #subsample ratio of training instance\n",
    "    colsample_bytree = 0.6 #subsample ratio of columns when constructing a tree\n",
    "    objective = 'reg:linear'\n",
    "    num_estimators = 100 #number of boosted trees to fit\n",
    "    learning_rate = 0.05\n",
    "\n",
    "    features = train_X\n",
    "    target = train_y\n",
    "    mdl = xg.XGBRegressor(max_depth=max_depth,\n",
    "                    min_child_weight=min_child_weight,\n",
    "                    subsample=subsample,\n",
    "                    colsample_bytree=colsample_bytree,\n",
    "                    objective=objective,\n",
    "                    n_estimators=num_estimators,\n",
    "                    learning_rate=learning_rate)\n",
    "    mdl.fit(features, target)\n",
    "    predicted = mdl.predict(train_X)\n",
    "\n",
    "    from sklearn.metrics import explained_variance_score\n",
    "    from sklearn.metrics import r2_score\n",
    "    #r2_score(predicted, y_test)\n",
    "    #models.append(\"M3\")\n",
    "    #score.append(explained_variance_score(predicted, y_test))\n",
    "    explained_variance_score(predicted, train_y)\n",
    "    from sklearn.metrics import mean_absolute_error\n",
    "    rms = mean_absolute_error(train_y,predicted)\n",
    "    xgboosterror.append(rms)\n",
    "    rms"
   ]
  },
  {
   "cell_type": "code",
   "execution_count": 51,
   "metadata": {
    "collapsed": true
   },
   "outputs": [],
   "source": [
    "import xgboost as xg\n",
    "\n",
    "for i in [6,7,8,9,10,11]:\n",
    "    max_depth = i\n",
    "    eta=0.3\n",
    "    min_child_weight = 5\n",
    "    subsample = 1\n",
    "    num_estimators = 100\n",
    "    colsample_bytree = 0.6\n",
    "    objective = 'reg:linear'\n",
    "    learning_rate = 0.05\n",
    "\n",
    "    features = train_X\n",
    "    target = train_y\n",
    "    mdl = xg.XGBRegressor(max_depth=max_depth,\n",
    "                    min_child_weight=min_child_weight,\n",
    "                    subsample=subsample,\n",
    "                    colsample_bytree=colsample_bytree,\n",
    "                    objective=objective,\n",
    "                    n_estimators=num_estimators,\n",
    "                    learning_rate=learning_rate)\n",
    "    mdl.fit(features, target)\n",
    "    predicted = mdl.predict(test_X)\n",
    "    #models.append(\"M4\")\n",
    "    #score.append(explained_variance_score(predicted, y_test))\n",
    "\n",
    "    from sklearn.metrics import explained_variance_score\n",
    "    from sklearn.metrics import r2_score\n",
    "    #r2_score(predicted, y_test)\n",
    "    explained_variance_score(predicted, test_y)\n",
    "    from sklearn.metrics import mean_absolute_error\n",
    "    rms = mean_absolute_error(test_y,predicted)\n",
    "    xgboostmodels.append(rms)\n",
    "    rms"
   ]
  },
  {
   "cell_type": "code",
   "execution_count": 52,
   "metadata": {},
   "outputs": [
    {
     "data": {
      "text/plain": [
       "[0.025897619083009919,\n",
       " 0.034288269306051319,\n",
       " 0.031436385812430544,\n",
       " 0.030296016347819362,\n",
       " 0.029789157209725216,\n",
       " 0.029482612001484838,\n",
       " 0.029298783269421806]"
      ]
     },
     "execution_count": 52,
     "metadata": {},
     "output_type": "execute_result"
    }
   ],
   "source": [
    "xgboostmodels"
   ]
  },
  {
   "cell_type": "code",
   "execution_count": 53,
   "metadata": {},
   "outputs": [
    {
     "data": {
      "text/plain": [
       "[0.02585838673580652,\n",
       " 0.032903153161892948,\n",
       " 0.029961526996787936,\n",
       " 0.028818807727989108,\n",
       " 0.028255321475281113,\n",
       " 0.027954792389924498,\n",
       " 0.027672957086015023]"
      ]
     },
     "execution_count": 53,
     "metadata": {},
     "output_type": "execute_result"
    }
   ],
   "source": [
    "xgboosterror"
   ]
  },
  {
   "cell_type": "code",
   "execution_count": 54,
   "metadata": {
    "scrolled": true
   },
   "outputs": [
    {
     "data": {
      "text/plain": [
       "<matplotlib.axes._subplots.AxesSubplot at 0x99008d0ac8>"
      ]
     },
     "execution_count": 54,
     "metadata": {},
     "output_type": "execute_result"
    },
    {
     "data": {
      "image/png": "[encoded data removed]",
      "text/plain": [
       "<matplotlib.figure.Figure at 0x9900429cf8>"
      ]
     },
     "metadata": {},
     "output_type": "display_data"
    }
   ],
   "source": [
    "dataxgboost=pd.DataFrame(index=[1,2,3,4,5,6,7])\n",
    "dataxgboost['validation error']=xgboostmodels\n",
    "dataxgboost['training error']=xgboosterror\n",
    "#dat.set_index(\"models\")\n",
    "dataxgboost.plot(title=\"Models Performance Graph\")"
   ]
  },
  {
   "cell_type": "code",
   "execution_count": 339,
   "metadata": {
    "collapsed": true
   },
   "outputs": [],
   "source": [
    "dataxgboost['difference']=dataxgboost['validation error']-dataxgboost['training error']\n"
   ]
  },
  {
   "cell_type": "code",
   "execution_count": null,
   "metadata": {
    "collapsed": true
   },
   "outputs": [],
   "source": [
    "dataxgboost"
   ]
  },
  {
   "cell_type": "markdown",
   "metadata": {},
   "source": [
    "#### Analysing the above table which gives us the differnce between tarining and validating error we can conclude that the model with least differnce is the best model. So the 1st model is the  best model for XGBoost"
   ]
  },
  {
   "cell_type": "markdown",
   "metadata": {},
   "source": [
    "### Predicting COST BURDEN"
   ]
  },
  {
   "cell_type": "code",
   "execution_count": 28,
   "metadata": {},
   "outputs": [
    {
     "name": "stderr",
     "output_type": "stream",
     "text": [
      "C:\\ProgramData\\Anaconda3\\lib\\site-packages\\sklearn\\cross_validation.py:44: DeprecationWarning: This module was deprecated in version 0.18 in favor of the model_selection module into which all the refactored classes and functions are moved. Also note that the interface of the new CV iterators are different from that of this module. This module will be removed in 0.20.\n",
      "  \"This module will be removed in 0.20.\", DeprecationWarning)\n"
     ]
    }
   ],
   "source": [
    "from sklearn.cross_validation  import train_test_split\n",
    "train_X,test_X,train_y,test_y = train_test_split(train_data,train_data.burden_range,test_size=0.25,random_state=42)"
   ]
  },
  {
   "cell_type": "markdown",
   "metadata": {},
   "source": [
    "### Decision tree"
   ]
  },
  {
   "cell_type": "code",
   "execution_count": 235,
   "metadata": {
    "collapsed": true
   },
   "outputs": [],
   "source": [
    "train_model1=[]\n",
    "test_model1=[]"
   ]
  },
  {
   "cell_type": "code",
   "execution_count": 236,
   "metadata": {
    "collapsed": true
   },
   "outputs": [],
   "source": [
    "from sklearn.tree import DecisionTreeClassifier\n",
    "clf = DecisionTreeClassifier()\n",
    "clf.fit(train_X,train_y)\n",
    "\n",
    "prediction = clf.predict(test_X)\n",
    "## Computing accuracy\n",
    "from sklearn.metrics import accuracy_score\n",
    "train_model1.append(accuracy_score(prediction, test_y))"
   ]
  },
  {
   "cell_type": "code",
   "execution_count": 237,
   "metadata": {
    "collapsed": true
   },
   "outputs": [],
   "source": [
    "from sklearn.tree import DecisionTreeClassifier\n",
    "clf = DecisionTreeClassifier()\n",
    "clf.fit(test_X,test_y)\n",
    "prediction = clf.predict(test_X)\n",
    "\n",
    "## Computing accuracy\n",
    "from sklearn.metrics import accuracy_score\n",
    "test_model1.append(accuracy_score(prediction, test_y))"
   ]
  },
  {
   "cell_type": "code",
   "execution_count": 238,
   "metadata": {
    "collapsed": true
   },
   "outputs": [],
   "source": [
    "#test\n",
    "from sklearn import tree\n",
    "clf = tree.DecisionTreeClassifier(criterion='gini', splitter='best',presort=False)\n",
    "clf.fit(train_X, train_y)\n",
    "prediction = clf.predict(test_X)\n",
    "## Computing accuracy\n",
    "from sklearn.metrics import accuracy_score\n",
    "test_model1.append(accuracy_score(prediction, test_y))\n"
   ]
  },
  {
   "cell_type": "code",
   "execution_count": 239,
   "metadata": {
    "collapsed": true
   },
   "outputs": [],
   "source": [
    "#test\n",
    "from sklearn import tree\n",
    "clf = tree.DecisionTreeClassifier(criterion='gini', splitter='random',presort=False)\n",
    "clf.fit(train_X, train_y)\n",
    "prediction = clf.predict(test_X)\n",
    "## Computing accuracy\n",
    "from sklearn.metrics import accuracy_score\n",
    "test_model1.append(accuracy_score(prediction, test_y))\n"
   ]
  },
  {
   "cell_type": "code",
   "execution_count": 240,
   "metadata": {
    "collapsed": true
   },
   "outputs": [],
   "source": [
    "#m1-train\n",
    "from sklearn import tree\n",
    "clf = tree.DecisionTreeClassifier(criterion='gini', splitter='best',presort=False)\n",
    "clf.fit(train_X, train_y)\n",
    "prediction = clf.predict(train_X)\n",
    "## Computing accuracy\n",
    "from sklearn.metrics import accuracy_score\n",
    "train_model1.append(accuracy_score(prediction, train_y))"
   ]
  },
  {
   "cell_type": "code",
   "execution_count": 241,
   "metadata": {
    "collapsed": true
   },
   "outputs": [],
   "source": [
    "#m1-train\n",
    "from sklearn import tree\n",
    "clf = tree.DecisionTreeClassifier(criterion='gini', splitter='random',presort=False)\n",
    "clf.fit(train_X, train_y)\n",
    "prediction = clf.predict(train_X)\n",
    "## Computing accuracy\n",
    "from sklearn.metrics import accuracy_score\n",
    "train_model1.append(accuracy_score(prediction, train_y))"
   ]
  },
  {
   "cell_type": "code",
   "execution_count": 242,
   "metadata": {
    "collapsed": true
   },
   "outputs": [],
   "source": [
    "#m2-test\n",
    "from sklearn import tree\n",
    "arr=[40,100,200,300]\n",
    "for i in arr:\n",
    "    clf = tree.DecisionTreeClassifier(criterion='entropy', splitter='best',min_samples_split=i)\n",
    "    clf.fit(train_X, train_y)\n",
    "    prediction = clf.predict(test_X)\n",
    "        ## Computing accuracy\n",
    "    from sklearn.metrics import accuracy_score\n",
    "    test_model1.append(accuracy_score(prediction, test_y))"
   ]
  },
  {
   "cell_type": "code",
   "execution_count": 243,
   "metadata": {
    "collapsed": true
   },
   "outputs": [],
   "source": [
    "#m2-test\n",
    "from sklearn import tree\n",
    "arr=[40,100,200,300]\n",
    "for i in arr:\n",
    "    clf = tree.DecisionTreeClassifier(criterion='entropy', splitter='random',min_samples_split=i)\n",
    "    clf.fit(train_X, train_y)\n",
    "    prediction = clf.predict(test_X)\n",
    "        ## Computing accuracy\n",
    "    from sklearn.metrics import accuracy_score\n",
    "    test_model1.append(accuracy_score(prediction, test_y))"
   ]
  },
  {
   "cell_type": "code",
   "execution_count": 244,
   "metadata": {
    "collapsed": true
   },
   "outputs": [],
   "source": [
    "#m2-train\n",
    "from sklearn import tree\n",
    "arr=[40,100,200,300]\n",
    "for i in arr:\n",
    "    clf = tree.DecisionTreeClassifier(criterion='entropy', splitter='best',min_samples_split=i)\n",
    "    clf.fit(train_X, train_y)\n",
    "    prediction = clf.predict(train_X)\n",
    "        ## Computing accuracy\n",
    "    from sklearn.metrics import accuracy_score\n",
    "    train_model1.append(accuracy_score(prediction, train_y))"
   ]
  },
  {
   "cell_type": "code",
   "execution_count": 245,
   "metadata": {
    "collapsed": true
   },
   "outputs": [],
   "source": [
    "#m2-train\n",
    "from sklearn import tree\n",
    "arr=[40,100,200,300]\n",
    "for i in arr:\n",
    "    clf = tree.DecisionTreeClassifier(criterion='entropy', splitter='random',min_samples_split=i)\n",
    "    clf.fit(train_X, train_y)\n",
    "    prediction = clf.predict(train_X)\n",
    "        ## Computing accuracy\n",
    "    from sklearn.metrics import accuracy_score\n",
    "    train_model1.append(accuracy_score(prediction, train_y))"
   ]
  },
  {
   "cell_type": "code",
   "execution_count": 246,
   "metadata": {},
   "outputs": [
    {
     "data": {
      "text/plain": [
       "[0.99986206896551721,\n",
       " 1.0,\n",
       " 1.0,\n",
       " 0.99990804597701144,\n",
       " 0.99990804597701144,\n",
       " 0.99990804597701144,\n",
       " 0.99990804597701144,\n",
       " 1.0,\n",
       " 1.0,\n",
       " 0.99990804597701144,\n",
       " 1.0]"
      ]
     },
     "execution_count": 246,
     "metadata": {},
     "output_type": "execute_result"
    }
   ],
   "source": [
    "train_model1"
   ]
  },
  {
   "cell_type": "code",
   "execution_count": 247,
   "metadata": {},
   "outputs": [
    {
     "data": {
      "text/plain": [
       "[1.0,\n",
       " 0.99986206896551721,\n",
       " 0.99986206896551721,\n",
       " 0.99986206896551721,\n",
       " 0.99986206896551721,\n",
       " 0.99986206896551721,\n",
       " 0.99986206896551721,\n",
       " 0.99986206896551721,\n",
       " 0.99986206896551721,\n",
       " 0.99986206896551721,\n",
       " 0.99986206896551721]"
      ]
     },
     "execution_count": 247,
     "metadata": {},
     "output_type": "execute_result"
    }
   ],
   "source": [
    "test_model1"
   ]
  },
  {
   "cell_type": "code",
   "execution_count": 248,
   "metadata": {},
   "outputs": [
    {
     "data": {
      "text/plain": [
       "<matplotlib.axes._subplots.AxesSubplot at 0xf90a4de9e8>"
      ]
     },
     "execution_count": 248,
     "metadata": {},
     "output_type": "execute_result"
    },
    {
     "data": {
      "image/png": "[encoded data removed]",
      "text/plain": [
       "<matplotlib.figure.Figure at 0xf9083f6710>"
      ]
     },
     "metadata": {},
     "output_type": "display_data"
    }
   ],
   "source": [
    "dat1=pd.DataFrame(index=[1,2,3,4,5,6,7,8,9,10,11])\n",
    "dat1['validation error']=test_model1\n",
    "dat1['training error']=train_model1\n",
    "#dat.set_index(\"models\")\n",
    "dat1.plot(title=\"Models Pereformance Graph\")"
   ]
  },
  {
   "cell_type": "code",
   "execution_count": 261,
   "metadata": {
    "collapsed": true
   },
   "outputs": [],
   "source": [
    "dat1['difference']=dat1['training error']-dat1['validation error']"
   ]
  },
  {
   "cell_type": "code",
   "execution_count": 262,
   "metadata": {},
   "outputs": [
    {
     "data": {
      "text/html": [
       "<div>\n",
       "<style>\n",
       "    .dataframe thead tr:only-child th {\n",
       "        text-align: right;\n",
       "    }\n",
       "\n",
       "    .dataframe thead th {\n",
       "        text-align: left;\n",
       "    }\n",
       "\n",
       "    .dataframe tbody tr th {\n",
       "        vertical-align: top;\n",
       "    }\n",
       "</style>\n",
       "<table border=\"1\" class=\"dataframe\">\n",
       "  <thead>\n",
       "    <tr style=\"text-align: right;\">\n",
       "      <th></th>\n",
       "      <th>validation error</th>\n",
       "      <th>training error</th>\n",
       "      <th>difference</th>\n",
       "    </tr>\n",
       "  </thead>\n",
       "  <tbody>\n",
       "    <tr>\n",
       "      <th>1</th>\n",
       "      <td>1.000000</td>\n",
       "      <td>0.999862</td>\n",
       "      <td>-0.000138</td>\n",
       "    </tr>\n",
       "    <tr>\n",
       "      <th>2</th>\n",
       "      <td>0.999862</td>\n",
       "      <td>1.000000</td>\n",
       "      <td>0.000138</td>\n",
       "    </tr>\n",
       "    <tr>\n",
       "      <th>3</th>\n",
       "      <td>0.999862</td>\n",
       "      <td>1.000000</td>\n",
       "      <td>0.000138</td>\n",
       "    </tr>\n",
       "    <tr>\n",
       "      <th>4</th>\n",
       "      <td>0.999862</td>\n",
       "      <td>1.000000</td>\n",
       "      <td>0.000138</td>\n",
       "    </tr>\n",
       "    <tr>\n",
       "      <th>5</th>\n",
       "      <td>0.999862</td>\n",
       "      <td>1.000000</td>\n",
       "      <td>0.000138</td>\n",
       "    </tr>\n",
       "    <tr>\n",
       "      <th>6</th>\n",
       "      <td>0.999862</td>\n",
       "      <td>0.999908</td>\n",
       "      <td>0.000046</td>\n",
       "    </tr>\n",
       "  </tbody>\n",
       "</table>\n",
       "</div>"
      ],
      "text/plain": [
       "   validation error  training error  difference\n",
       "1          1.000000        0.999862   -0.000138\n",
       "2          0.999862        1.000000    0.000138\n",
       "3          0.999862        1.000000    0.000138\n",
       "4          0.999862        1.000000    0.000138\n",
       "5          0.999862        1.000000    0.000138\n",
       "6          0.999862        0.999908    0.000046"
      ]
     },
     "execution_count": 262,
     "metadata": {},
     "output_type": "execute_result"
    }
   ],
   "source": [
    "dat1"
   ]
  },
  {
   "cell_type": "markdown",
   "metadata": {},
   "source": [
    "### Xgboost"
   ]
  },
  {
   "cell_type": "code",
   "execution_count": 100,
   "metadata": {
    "collapsed": true
   },
   "outputs": [],
   "source": [
    "xgboost_error=[]\n",
    "xgboost_models=[]"
   ]
  },
  {
   "cell_type": "code",
   "execution_count": 73,
   "metadata": {},
   "outputs": [
    {
     "data": {
      "text/plain": [
       "0.0071296149780010355"
      ]
     },
     "execution_count": 73,
     "metadata": {},
     "output_type": "execute_result"
    }
   ],
   "source": [
    "from sklearn.model_selection import train_test_split  \n",
    "from xgboost.sklearn import XGBRegressor\n",
    "\n",
    "max_depth = 9\n",
    "min_child_weight = 200\n",
    "subsample = 0.9\n",
    "colsample_bytree = 0.9\n",
    "objective = 'reg:linear'\n",
    "num_estimators = 100\n",
    "learning_rate = 0.1\n",
    "\n",
    "features = train_X\n",
    "target = train_y\n",
    "mdl = XGBRegressor(max_depth=max_depth,\n",
    "                min_child_weight=min_child_weight,\n",
    "                subsample=subsample,\n",
    "                colsample_bytree=colsample_bytree,\n",
    "                objective=objective,\n",
    "                n_estimators=num_estimators,\n",
    "                learning_rate=learning_rate)\n",
    "mdl.fit(features, target)\n",
    "predicted = mdl.predict(train_X)\n",
    "\n",
    "from sklearn.metrics import explained_variance_score\n",
    "from sklearn.metrics import r2_score\n",
    "#r2_score(predicted, y_test)\n",
    "#models.append(\"M1\")\n",
    "#score.append(explained_variance_score(predicted, y_test))\n",
    "\n",
    "explained_variance_score(predicted, train_y)\n",
    "from sklearn.metrics import mean_absolute_error\n",
    "rms = mean_absolute_error(train_y,predicted)\n",
    "xgboost_error.append(rms)\n",
    "rms\n"
   ]
  },
  {
   "cell_type": "code",
   "execution_count": 74,
   "metadata": {},
   "outputs": [
    {
     "data": {
      "text/plain": [
       "0.0064696477692702719"
      ]
     },
     "execution_count": 74,
     "metadata": {},
     "output_type": "execute_result"
    }
   ],
   "source": [
    "from sklearn.model_selection import train_test_split  \n",
    "from xgboost.sklearn import XGBRegressor\n",
    "\n",
    "max_depth = 9\n",
    "min_child_weight = 200\n",
    "subsample = 0.9\n",
    "colsample_bytree = 0.9\n",
    "objective = 'reg:linear'\n",
    "num_estimators = 100\n",
    "learning_rate = 0.1\n",
    "\n",
    "features = train_X\n",
    "target = train_y\n",
    "mdl = XGBRegressor(max_depth=max_depth,\n",
    "                min_child_weight=min_child_weight,\n",
    "                subsample=subsample,\n",
    "                colsample_bytree=colsample_bytree,\n",
    "                objective=objective,\n",
    "                n_estimators=num_estimators,\n",
    "                learning_rate=learning_rate)\n",
    "mdl.fit(features, target)\n",
    "predicted = mdl.predict(test_X)\n",
    "\n",
    "from sklearn.metrics import explained_variance_score\n",
    "from sklearn.metrics import r2_score\n",
    "#r2_score(predicted, y_test)\n",
    "#models.append(\"M1\")\n",
    "#score.append(explained_variance_score(predicted, y_test))\n",
    "\n",
    "explained_variance_score(predicted,test_y)\n",
    "from sklearn.metrics import mean_absolute_error\n",
    "rms = mean_absolute_error(test_y,predicted)\n",
    "xgboost_models.append(rms)\n",
    "rms"
   ]
  },
  {
   "cell_type": "code",
   "execution_count": 101,
   "metadata": {
    "collapsed": true
   },
   "outputs": [],
   "source": [
    "import xgboost as xg\n",
    "\n",
    "for i in [250,450,500,750,900]:\n",
    "    max_depth = 7\n",
    "    min_child_weight = 100\n",
    "    subsample = 0.7\n",
    "    num_estimators = i\n",
    "    colsample_bytree = 0.7\n",
    "    objective = 'reg:linear'\n",
    "    learning_rate = 0.07\n",
    "\n",
    "    features = train_X\n",
    "    target = train_y\n",
    "    mdl = xg.XGBRegressor(max_depth=max_depth,\n",
    "                    min_child_weight=min_child_weight,\n",
    "                    subsample=subsample,\n",
    "                    colsample_bytree=colsample_bytree,\n",
    "                    objective=objective,\n",
    "                    n_estimators=num_estimators,\n",
    "                    learning_rate=learning_rate)\n",
    "    mdl.fit(features, target)\n",
    "    predicted = mdl.predict(train_X)\n",
    "\n",
    "    from sklearn.metrics import explained_variance_score\n",
    "    from sklearn.metrics import r2_score\n",
    "    #r2_score(predicted, y_test)\n",
    "\n",
    "    explained_variance_score(predicted, train_y)\n",
    "    from sklearn.metrics import mean_absolute_error\n",
    "    rms = mean_absolute_error(train_y,predicted)\n",
    "    xgboost_error.append(rms)\n",
    "    rms\n",
    "\n"
   ]
  },
  {
   "cell_type": "code",
   "execution_count": 104,
   "metadata": {
    "collapsed": true
   },
   "outputs": [],
   "source": [
    "import xgboost as xg\n",
    "\n",
    "for i in [250,400,500,750,900]:\n",
    "    max_depth = 7\n",
    "    min_child_weight = 100\n",
    "    subsample = 0.7\n",
    "    num_estimators = i\n",
    "    colsample_bytree = 0.6\n",
    "    objective = 'reg:linear'\n",
    "    learning_rate = 0.07\n",
    "\n",
    "    features = train_X\n",
    "    target = train_y\n",
    "    mdl = xg.XGBRegressor(max_depth=max_depth,\n",
    "                    min_child_weight=min_child_weight,\n",
    "                    subsample=subsample,\n",
    "                    colsample_bytree=colsample_bytree,\n",
    "                    objective=objective,\n",
    "                    n_estimators=num_estimators,\n",
    "                    learning_rate=learning_rate)\n",
    "    mdl.fit(features, target)\n",
    "    predicted = mdl.predict(test_X)\n",
    "\n",
    "    from sklearn.metrics import explained_variance_score\n",
    "    from sklearn.metrics import r2_score\n",
    "    #r2_score(predicted, y_test)\n",
    "\n",
    "    explained_variance_score(predicted, test_y)\n",
    "    from sklearn.metrics import mean_absolute_error\n",
    "    rms = mean_absolute_error(test_y,predicted)\n",
    "    xgboost_models.append(rms)\n",
    "    rms"
   ]
  },
  {
   "cell_type": "code",
   "execution_count": 105,
   "metadata": {},
   "outputs": [
    {
     "data": {
      "text/plain": [
       "0.016538641326728908"
      ]
     },
     "execution_count": 105,
     "metadata": {},
     "output_type": "execute_result"
    }
   ],
   "source": [
    "from sklearn.model_selection import train_test_split  \n",
    "from xgboost.sklearn import XGBRegressor\n",
    "\n",
    "\n",
    "\n",
    "max_depth = 10 #max tree depth for base learnears\n",
    "min_child_weight = 100 #min sum of instance weight needed in a child\n",
    "subsample = 0.5 #subsample ratio of training instance\n",
    "colsample_bytree = 0.6 #subsample ratio of columns when constructing a tree\n",
    "objective = 'reg:linear'\n",
    "num_estimators = 500 #number of boosted trees to fit\n",
    "learning_rate = 0.045\n",
    "\n",
    "features = train_X\n",
    "target = train_y\n",
    "mdl = xg.XGBRegressor(max_depth=max_depth,\n",
    "                min_child_weight=min_child_weight,\n",
    "                subsample=subsample,\n",
    "                colsample_bytree=colsample_bytree,\n",
    "                objective=objective,\n",
    "                n_estimators=num_estimators,\n",
    "                learning_rate=learning_rate)\n",
    "mdl.fit(features, target)\n",
    "predicted = mdl.predict(train_X)\n",
    "\n",
    "from sklearn.metrics import explained_variance_score\n",
    "from sklearn.metrics import r2_score\n",
    "#r2_score(predicted, y_test)\n",
    "#models.append(\"M3\")\n",
    "#score.append(explained_variance_score(predicted, y_test))\n",
    "explained_variance_score(predicted, train_y)\n",
    "from sklearn.metrics import mean_absolute_error\n",
    "rms = mean_absolute_error(train_y,predicted)\n",
    "xgboost_error.append(rms)\n",
    "rms"
   ]
  },
  {
   "cell_type": "code",
   "execution_count": 106,
   "metadata": {},
   "outputs": [
    {
     "data": {
      "text/plain": [
       "0.017945397475670123"
      ]
     },
     "execution_count": 106,
     "metadata": {},
     "output_type": "execute_result"
    }
   ],
   "source": [
    "import xgboost as xg\n",
    "\n",
    "max_depth = 10\n",
    "min_child_weight = 100\n",
    "subsample = 0.5\n",
    "num_estimators = 500\n",
    "colsample_bytree = 0.6\n",
    "objective = 'reg:linear'\n",
    "learning_rate = 0.045\n",
    "\n",
    "features = train_X\n",
    "target = train_y\n",
    "mdl = xg.XGBRegressor(max_depth=max_depth,\n",
    "                min_child_weight=min_child_weight,\n",
    "                subsample=subsample,\n",
    "                colsample_bytree=colsample_bytree,\n",
    "                objective=objective,\n",
    "                n_estimators=num_estimators,\n",
    "                learning_rate=learning_rate)\n",
    "mdl.fit(features, target)\n",
    "predicted = mdl.predict(test_X)\n",
    "#models.append(\"M4\")\n",
    "#score.append(explained_variance_score(predicted, y_test))\n",
    "\n",
    "from sklearn.metrics import explained_variance_score\n",
    "from sklearn.metrics import r2_score\n",
    "#r2_score(predicted, y_test)\n",
    "explained_variance_score(predicted, test_y)\n",
    "from sklearn.metrics import mean_absolute_error\n",
    "rms = mean_absolute_error(test_y,predicted)\n",
    "xgboost_models.append(rms)\n",
    "rms"
   ]
  },
  {
   "cell_type": "code",
   "execution_count": 107,
   "metadata": {},
   "outputs": [
    {
     "data": {
      "text/plain": [
       "[0.023809676778727563,\n",
       " 0.020478427541667017,\n",
       " 0.019240524834599988,\n",
       " 0.017274352369637324,\n",
       " 0.016569931392011971,\n",
       " 0.017945397475670123]"
      ]
     },
     "execution_count": 107,
     "metadata": {},
     "output_type": "execute_result"
    }
   ],
   "source": [
    "xgboost_models"
   ]
  },
  {
   "cell_type": "code",
   "execution_count": 108,
   "metadata": {},
   "outputs": [
    {
     "data": {
      "text/plain": [
       "[0.016906128877880931,\n",
       " 0.013671339846205437,\n",
       " 0.013274442338395392,\n",
       " 0.011726476302092103,\n",
       " 0.011105978324495513,\n",
       " 0.016538641326728908]"
      ]
     },
     "execution_count": 108,
     "metadata": {},
     "output_type": "execute_result"
    }
   ],
   "source": [
    "xgboost_error"
   ]
  },
  {
   "cell_type": "code",
   "execution_count": 109,
   "metadata": {},
   "outputs": [
    {
     "data": {
      "text/plain": [
       "<matplotlib.axes._subplots.AxesSubplot at 0x66fd690ba8>"
      ]
     },
     "execution_count": 109,
     "metadata": {},
     "output_type": "execute_result"
    },
    {
     "data": {
      "image/png": "[encoded data removed]",
      "text/plain": [
       "<matplotlib.figure.Figure at 0x66fd659198>"
      ]
     },
     "metadata": {},
     "output_type": "display_data"
    }
   ],
   "source": [
    "dataxgboost1=pd.DataFrame(index=[1,2,3,4,5,6])\n",
    "dataxgboost1['validation error']=xgboost_models\n",
    "dataxgboost1['training error']=xgboost_error\n",
    "#dat.set_index(\"models\")\n",
    "dataxgboost1.plot(title=\"Models Pereformance Graph\")"
   ]
  },
  {
   "cell_type": "markdown",
   "metadata": {
    "collapsed": true
   },
   "source": [
    "##### dataxgboost1['difference']=dataxgboost1['validation error']-dataxgboost1['training error']\n"
   ]
  },
  {
   "cell_type": "code",
   "execution_count": 284,
   "metadata": {},
   "outputs": [
    {
     "data": {
      "text/html": [
       "<div>\n",
       "<style>\n",
       "    .dataframe thead tr:only-child th {\n",
       "        text-align: right;\n",
       "    }\n",
       "\n",
       "    .dataframe thead th {\n",
       "        text-align: left;\n",
       "    }\n",
       "\n",
       "    .dataframe tbody tr th {\n",
       "        vertical-align: top;\n",
       "    }\n",
       "</style>\n",
       "<table border=\"1\" class=\"dataframe\">\n",
       "  <thead>\n",
       "    <tr style=\"text-align: right;\">\n",
       "      <th></th>\n",
       "      <th>validation error</th>\n",
       "      <th>training error</th>\n",
       "      <th>difference</th>\n",
       "    </tr>\n",
       "  </thead>\n",
       "  <tbody>\n",
       "    <tr>\n",
       "      <th>1</th>\n",
       "      <td>0.001903</td>\n",
       "      <td>0.002068</td>\n",
       "      <td>-0.000165</td>\n",
       "    </tr>\n",
       "    <tr>\n",
       "      <th>2</th>\n",
       "      <td>0.001664</td>\n",
       "      <td>0.001039</td>\n",
       "      <td>0.000625</td>\n",
       "    </tr>\n",
       "    <tr>\n",
       "      <th>3</th>\n",
       "      <td>0.003703</td>\n",
       "      <td>0.001346</td>\n",
       "      <td>0.002357</td>\n",
       "    </tr>\n",
       "  </tbody>\n",
       "</table>\n",
       "</div>"
      ],
      "text/plain": [
       "   validation error  training error  difference\n",
       "1          0.001903        0.002068   -0.000165\n",
       "2          0.001664        0.001039    0.000625\n",
       "3          0.003703        0.001346    0.002357"
      ]
     },
     "execution_count": 284,
     "metadata": {},
     "output_type": "execute_result"
    }
   ],
   "source": [
    "dataxgboost1"
   ]
  },
  {
   "cell_type": "markdown",
   "metadata": {},
   "source": [
    "#### Analysing the above table which gives us the differnce between tarining and validating error we can conclude that the model with least differnce is the best model. So the 1st model is the  best model for XGBoost"
   ]
  }
 ],
 "metadata": {
  "kernelspec": {
   "display_name": "Python 3",
   "language": "python",
   "name": "python3"
  },
  "language_info": {
   "codemirror_mode": {
    "name": "ipython",
    "version": 3
   },
   "file_extension": ".py",
   "mimetype": "text/x-python",
   "name": "python",
   "nbconvert_exporter": "python",
   "pygments_lexer": "ipython3",
   "version": "3.6.1"
  }
 },
 "nbformat": 4,
 "nbformat_minor": 2
}
